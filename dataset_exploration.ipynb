{
 "cells": [
  {
   "cell_type": "markdown",
   "id": "9a8c1ae9",
   "metadata": {},
   "source": [
    "# 0. Setup"
   ]
  },
  {
   "cell_type": "code",
   "execution_count": 7,
   "id": "47bac3b9",
   "metadata": {},
   "outputs": [],
   "source": [
    "from datasets import load_dataset\n",
    "from pprint import pprint"
   ]
  },
  {
   "cell_type": "markdown",
   "id": "e6f11b31",
   "metadata": {},
   "source": [
    "# 1. Swiss Judgement Prediction\n",
    "\n",
    "Link: https://huggingface.co/datasets/rcds/swiss_judgment_prediction"
   ]
  },
  {
   "cell_type": "markdown",
   "id": "74f30889",
   "metadata": {},
   "source": [
    "## Original languages"
   ]
  },
  {
   "cell_type": "code",
   "execution_count": 3,
   "id": "4868f7a4",
   "metadata": {},
   "outputs": [
    {
     "data": {
      "application/vnd.jupyter.widget-view+json": {
       "model_id": "766174840e504aa9853f72d1d691aa5d",
       "version_major": 2,
       "version_minor": 0
      },
      "text/plain": [
       "Downloading data:   0%|          | 0.00/234M [00:00<?, ?B/s]"
      ]
     },
     "metadata": {},
     "output_type": "display_data"
    },
    {
     "data": {
      "application/vnd.jupyter.widget-view+json": {
       "model_id": "68768013f8ed4796a74f197d2eea4ece",
       "version_major": 2,
       "version_minor": 0
      },
      "text/plain": [
       "Downloading data:   0%|          | 0.00/668M [00:00<?, ?B/s]"
      ]
     },
     "metadata": {},
     "output_type": "display_data"
    },
    {
     "data": {
      "application/vnd.jupyter.widget-view+json": {
       "model_id": "bb77c69b160c4b70abe650ce8c873658",
       "version_major": 2,
       "version_minor": 0
      },
      "text/plain": [
       "Downloading data:   0%|          | 0.00/29.2M [00:00<?, ?B/s]"
      ]
     },
     "metadata": {},
     "output_type": "display_data"
    },
    {
     "data": {
      "application/vnd.jupyter.widget-view+json": {
       "model_id": "0ce4d0a3feda488ca874708985f25422",
       "version_major": 2,
       "version_minor": 0
      },
      "text/plain": [
       "Downloading data:   0%|          | 0.00/68.9M [00:00<?, ?B/s]"
      ]
     },
     "metadata": {},
     "output_type": "display_data"
    },
    {
     "data": {
      "application/vnd.jupyter.widget-view+json": {
       "model_id": "2e9a7567bb6e4151a1fee5b60b69f3ae",
       "version_major": 2,
       "version_minor": 0
      },
      "text/plain": [
       "Generating train split:   0%|          | 0/59709 [00:00<?, ? examples/s]"
      ]
     },
     "metadata": {},
     "output_type": "display_data"
    },
    {
     "data": {
      "application/vnd.jupyter.widget-view+json": {
       "model_id": "9399f55af2cf456cbeef940e9280eda3",
       "version_major": 2,
       "version_minor": 0
      },
      "text/plain": [
       "Generating validation split:   0%|          | 0/8208 [00:00<?, ? examples/s]"
      ]
     },
     "metadata": {},
     "output_type": "display_data"
    },
    {
     "data": {
      "application/vnd.jupyter.widget-view+json": {
       "model_id": "39320ad2bc144b49b582d991cebc0df7",
       "version_major": 2,
       "version_minor": 0
      },
      "text/plain": [
       "Generating test split:   0%|          | 0/17357 [00:00<?, ? examples/s]"
      ]
     },
     "metadata": {},
     "output_type": "display_data"
    }
   ],
   "source": [
    "# Load original dataset (with the original languages)\n",
    "swiss = load_dataset('swiss_judgment_prediction', 'all', trust_remote_code=True)"
   ]
  },
  {
   "cell_type": "code",
   "execution_count": 4,
   "id": "f81bde7a",
   "metadata": {},
   "outputs": [
    {
     "name": "stdout",
     "output_type": "stream",
     "text": [
      "DatasetDict({\n",
      "    train: Dataset({\n",
      "        features: ['id', 'year', 'text', 'label', 'language', 'region', 'canton', 'legal area', 'source_language'],\n",
      "        num_rows: 59709\n",
      "    })\n",
      "    validation: Dataset({\n",
      "        features: ['id', 'year', 'text', 'label', 'language', 'region', 'canton', 'legal area', 'source_language'],\n",
      "        num_rows: 8208\n",
      "    })\n",
      "    test: Dataset({\n",
      "        features: ['id', 'year', 'text', 'label', 'language', 'region', 'canton', 'legal area', 'source_language'],\n",
      "        num_rows: 17357\n",
      "    })\n",
      "})\n"
     ]
    }
   ],
   "source": [
    "print(swiss)"
   ]
  },
  {
   "cell_type": "code",
   "execution_count": 8,
   "id": "cd7c6346",
   "metadata": {},
   "outputs": [
    {
     "name": "stdout",
     "output_type": "stream",
     "text": [
      "{'canton': 'zh',\n",
      " 'id': 2,\n",
      " 'label': 0,\n",
      " 'language': 'de',\n",
      " 'legal area': 'insurance law',\n",
      " 'region': 'Zürich',\n",
      " 'source_language': 'n/a',\n",
      " 'text': 'A.- Der 1955 geborene V._ war seit 1. September 1986 hauptberuflich '\n",
      "         'als technischer Kaufmann bei der Firma A._ AG tätig und im Rahmen '\n",
      "         'einer Nebenbeschäftigung (Nachtarbeit) ab Mai 1990 bei einem '\n",
      "         'Bewachungsdienst angestellt gewesen, als er am 10. Februar 1991 in '\n",
      "         'Norwegen beim Hundeschlittenfahren eine Muskelruptur im Bereich des '\n",
      "         'linken Oberschenkels erlitt. Die Verletzung wurde am 26. Februar '\n",
      "         '1991 mittels Muskelnaht operativ versorgt (Bericht des Dr. med. B._, '\n",
      "         'Oberarzt, Chirurgische Klinik X._ vom 28. Februar 1991). '\n",
      "         'Beweglichkeits- und Sensibilitätsausfälle führten zum Beizug des Dr. '\n",
      "         'med. W._, Spezialarzt FMH Neurologie, welcher eine Ischiadicusparese '\n",
      "         'links, wahrscheinlich traumatisch bedingt, diagnostizierte (Bericht '\n",
      "         'vom 5. März 1991). Dr. med. S._, Spezialarzt für Chirurgie FMH, '\n",
      "         'Chefarzt Spital X._ (Bericht vom 28. Oktober 1992) bestätigte, dass '\n",
      "         'es bei der Operation vom 10. Februar 1991 zu einer Druckschädigung '\n",
      "         'des Ischiasnerv gekommen sei. Bei Versorgung mit Schiene und '\n",
      "         'Stützschuh sei V._ indes schmerz- und hinkfrei gehfähig; die '\n",
      "         'Arbeitsfähigkeit sei weder hinsichtlich der Tätigkeit als Kaufmann '\n",
      "         'noch mit Bezug auf die nunmehr aufgegebene Nebenbeschäftigung als '\n",
      "         'Wächter eingeschränkt. Mit unangefochten in Rechtskraft erwachsener '\n",
      "         'Verfügung vom 16. Dezember 1993 lehnte die IV-Stelle des Kantons '\n",
      "         'Zürich das am 2. September 1992 gestellte Rentenbegehren nach '\n",
      "         'Abklärungen in medizinischer und beruflich-erwerblicher Hinsicht '\n",
      "         'wegen eines zu geringen Invaliditätsgrades (von 33,5 %) ab. V._ geht '\n",
      "         'seit der Beendigung des Arbeitsverhältnisses mit der Firma A._ AG am '\n",
      "         '31. Juli 1993 mit Ausnahme der kurzzeitigen Anstellung (vom 1. bis '\n",
      "         '28. Dezember 1994) als Disponent bei der Firma I._ AG keiner '\n",
      "         'Erwerbstätigkeit mehr nach. Auf Grund des zuletzt geschlossenen '\n",
      "         'Arbeitsvertrages war er bei der Versicherungsgesellschaft Y._ '\n",
      "         'obligatorisch gegen die Folgen von Berufs- und Nichtberufsunfällen '\n",
      "         'versichert, als ihm am 15. Dezember 1994 eine Projektionsleinwand '\n",
      "         'auf die rechte Schulter fiel. Die dabei erlittene '\n",
      "         'Rotatorenmanschettenverletzung (bei Status nach Operation einer '\n",
      "         'habituellen Schulterluxation im Jahre 1980) bedingte am 3. Oktober '\n",
      "         '1995 einen chirurgischen Eingriff, welcher gemäss Beurteilung des '\n",
      "         'behandelnden Dr. med. T._, Co-Chefarzt, Spital Z._ (Berichte vom 21. '\n",
      "         'September und 28. Dezember 1995) komplikationslos verlief. '\n",
      "         'Entsprechend der im Bericht vom 28. Dezember 1995 gemachten '\n",
      "         'Erwartung einer vollständigen Rehabilitation sprach sich der '\n",
      "         'behandelnde Chirurg am 2. April 1996 dafür aus, V._ sei mit Blick '\n",
      "         'auf die operierte Schulter hinsichtlich einer körperlich nicht '\n",
      "         'schweren Tätigkeit zu 100 % arbeitsfähig. Nachdem sich V._ am 14. '\n",
      "         'September 1995 wegen des Schulterleidens erneut bei der '\n",
      "         'Invalidenversicherung zum Leistungsbezug angemeldet hatte, teilte '\n",
      "         'ihm die IV-Stelle des Kantons Zürich im Vorbescheid vom 21. August '\n",
      "         '1996 mit, das Leistungsbegehren werde abgewiesen. Auf Grund der im '\n",
      "         'Vorbescheidverfahren geltend gemachten psychischen Beschwerden holte '\n",
      "         'die IV-Stelle einen Bericht des behandelnden Psychiaters Dr. med. '\n",
      "         'R._, vom 12./13. Oktober 1996 ein und ordnete ein fachärztliches '\n",
      "         'Gutachten des Psychiatrischen Zentrums C._ an, das am 4. August 1997 '\n",
      "         'durch die Dres. med. N._ und O._ erstattet wurde. Gestützt auf die '\n",
      "         'ergänzenden Abklärungen setzte die IV- Stelle den Invaliditätsgrad '\n",
      "         'neu auf 100 % fest und sprach ab 1. Oktober 1996 eine ganze '\n",
      "         'Invalidenrente zu (Verfügung vom 5. Novemer 1997). B.- Die hiegegen '\n",
      "         'erhobene Beschwerde hiess das Sozialversicherungsgericht des Kantons '\n",
      "         'Zürich in dem Sinne gut, als es die angefochtene '\n",
      "         'Verwaltungsverfügung mit der Feststellung aufhob, der Anspruch auf '\n",
      "         'eine ganze Rente bestünde bereits ab 1. Januar 1996 (Entscheid vom '\n",
      "         '20. Juli 1999). C.- V._ lässt Verwaltungsgerichtsbeschwerde führen '\n",
      "         'und beantragen, es sei ihm bereits ab 1. März 1995 eine Rente '\n",
      "         'zuzusprechen. Während die IV-Stelle auf eine Stellungnahme '\n",
      "         'verzichtet, lässt sich das Bundesamt für Sozialversicherung nicht '\n",
      "         'vernehmen. ',\n",
      " 'year': 2000}\n",
      "{'canton': 'be',\n",
      " 'id': 48757,\n",
      " 'label': 0,\n",
      " 'language': 'de',\n",
      " 'legal area': 'penal law',\n",
      " 'region': 'Espace Mittelland',\n",
      " 'source_language': 'n/a',\n",
      " 'text': 'Sachverhalt: A. X._ war bei der Krankenversicherung C._ '\n",
      "         'taggeldversichert. Infolge einer Arbeitsunfähigkeit leistete ihm die '\n",
      "         'C._ vom 30. Juni 2011 bis am 28. Juni 2013 Krankentaggelder, wobei '\n",
      "         'die Leistungen bis am 30. September 2012 auf Grundlage einer '\n",
      "         'Arbeitsunfähigkeit von 100% und danach basierend auf einer '\n",
      "         'Arbeitsunfähigkeit von 55% erbracht wurden. Die Neueinschätzung der '\n",
      "         'Arbeitsfähigkeit erfolgte anhand eines Gutachtens der D._ AG vom 27. '\n",
      "         'August 2012, welches im Auftrag der C._ erstellt wurde. X._ machte '\n",
      "         'daraufhin gegenüber der C._ geltend, er sei entgegen dem Gutachten '\n",
      "         'auch nach dem 30. September 2012 zu 100% arbeitsunfähig gewesen. '\n",
      "         'Ferner verlangte er von der D._ AG zwecks externer Überprüfung des '\n",
      "         'Gutachtens die Herausgabe sämtlicher diesbezüglicher Notizen, '\n",
      "         'Auswertungen und Unterlagen. A._ (als Geschäftsführer der D._ AG) '\n",
      "         'und B._ (als für das Gutachten medizinisch Verantwortliche) '\n",
      "         'antworteten ihm, dass sie alle Unterlagen der C._ zugestellt hätten '\n",
      "         'und dass allfällige Fragen zum Gutachten direkt der C._ zu stellen '\n",
      "         'seien. X._ reichte am 2. Januar 2014 eine Strafanzeige gegen A._ und '\n",
      "         'B._ ein. Er wirft diesen vor, ihn durch die Nichtherausgabe der '\n",
      "         'Dokumente und durch Behinderung des IV-Verfahrens genötigt, Daten '\n",
      "         'beschädigt bzw. vernichtet und ein falsches ärztliches Zeugnis '\n",
      "         'ausgestellt zu haben. Zudem hätten sie durch die Verzögerung des '\n",
      "         'IV-Verfahrens und insbesondere durch das falsche ärztliche Zeugnis '\n",
      "         'sein Vermögen arglistig geschädigt. B. Die Staatsanwaltschaft des '\n",
      "         'Kantons Bern, Region Oberland, nahm das Verfahren wegen Nötigung, '\n",
      "         'Datenbeschädigung, falschem ärztlichem Zeugnis und arglistiger '\n",
      "         'Vermögensschädigung mit Verfügung vom 10. November 2014 nicht an die '\n",
      "         'Hand. Das Obergericht des Kantons Bern wies die von X._ dagegen '\n",
      "         'erhobene Beschwerde am 27. April 2015 ab, soweit darauf einzutreten '\n",
      "         'war. C. X._ beantragt mit Beschwerde in Strafsachen, der Beschluss '\n",
      "         'vom 27. April 2015 sei aufzuheben und die Angelegenheit zur '\n",
      "         'korrekten Ermittlung des Sachverhalts an die Staatsanwaltschaft '\n",
      "         'zurückzuweisen. Er stellt zudem den sinngemässen Antrag, das '\n",
      "         'bundesgerichtliche Verfahren sei während der Dauer des konnexen '\n",
      "         'Strafverfahrens gegen eine Teilgutachterin und des ebenfalls '\n",
      "         'konnexen Zivil- oder Strafverfahrens gegen die C._ wegen '\n",
      "         'Einsichtsverweigerung in das mutmasslich gefälschte '\n",
      "         'Originalgutachten zu sistieren. X._ ersucht um unentgeltliche '\n",
      "         'Rechtspflege. ',\n",
      " 'year': 2015}\n",
      "{'canton': 'zh',\n",
      " 'id': 56400,\n",
      " 'label': 0,\n",
      " 'language': 'de',\n",
      " 'legal area': 'penal law',\n",
      " 'region': 'Zürich',\n",
      " 'source_language': 'n/a',\n",
      " 'text': 'Sachverhalt: A. Das Bezirksgericht Bülach hatte im Jahre 2014 eine '\n",
      "         'Strafverfügung des Bundesamts für Zivilluftfahrt (BAZL) zu '\n",
      "         'beurteilen, in der es teilweise um den gleichen Sachverhalt wie im '\n",
      "         'heutigen Verfahren ging, nämlich um das nicht korrekte Führen von '\n",
      "         'Flugbüchern zu Flugzeugen der A._ AG in den Jahren 2010 bis 2012. Es '\n",
      "         'wies am 18. August 2014 die vom BAZL beantragte Bestrafung der AG im '\n",
      "         'Sinne von Art. 7 Abs. 1 Bundesgesetz über das Verwaltungsstrafrecht '\n",
      "         '(VStrR; SR 313.0) als unzulässig ab, weil es mit verhältnismässigem '\n",
      "         'Aufwand möglich gewesen wäre, die verantwortlichen natürlichen '\n",
      "         'Personen zu ermitteln. Das BAZL erliess am 17. September 2015 zu '\n",
      "         'einem Teil der fehlenden Eintragungen in den Flugbüchern einen '\n",
      "         'Strafbescheid gegen X._ als natürliche Person. Dieser erhob '\n",
      "         'Einsprache. Das BAZL erliess am 22. Oktober 2015 eine Strafverfügung '\n",
      "         'gestützt auf Art. 70 VStrR, worin es 7 fehlende Eintragungen fallen '\n",
      "         'liess und X._ wegen der 17 verbleibenden mit Fr. 850.-- büsste. '\n",
      "         'Dieser erhob Einsprache, worauf das BAZL die Sache zur gerichtlichen '\n",
      "         'Beurteilung überwies. B. Das Bezirksgericht Bülach bestrafte am 4. '\n",
      "         \"Mai 2016 X._ mit einer Busse von Fr. 4'000.-- wegen mehrfacher \"\n",
      "         'fahrlässiger Widerhandlung gegen Art. 20 Abs. 1 und Abs. 4 '\n",
      "         'Verordnung der UVEK über die Lufttüchtigkeit von Luftfahrzeugen '\n",
      "         '(VLL; SR 748.215.1) i.V.m. Art. 5 Abs. 1 Verordnung über die Rechte '\n",
      "         'und Pflichten des Kommandanten eines Luftfahrzeugs (VLLV; SR '\n",
      "         '748.225.1) sowie Art. 52a VLL und Art. 91 Abs. 1 lit. i Bundesgesetz '\n",
      "         'über die Luftfahrt (LFG; SR 748.0). X._ erhob Berufung. Das '\n",
      "         'Obergericht des Kantons Zürich bestätigte am 10. Januar 2017 den '\n",
      "         'bezirksgerichtlichen Schuldspruch und büsste ihn mit Fr. 850.--. C. '\n",
      "         'X._ beantragt mit Beschwerde in Strafsachen, das vorinstanzliche '\n",
      "         'Urteil aufzuheben, das Verfahren wegen Verjährung einzustellen, '\n",
      "         'soweit Widerhandlungen vor dem 4. Mai 2012 betroffen seien, ihn '\n",
      "         'wegen der Widerhandlungen vom 6. und 7. Juli 2012 betreffend '\n",
      "         'insgesamt 105 Flugminuten schuldig zu erklären und angemessen zu '\n",
      "         'bestrafen, die Kosten des erstinstanzlichen Verfahrens anteilsmässig '\n",
      "         'festzusetzen und jene des vorinstanzlichen den Beschwerdegegnerinnen '\n",
      "         'aufzuerlegen, ihm für den eingestellten Teil des erstinstanzlichen '\n",
      "         'Verfahrens sowie für das vorinstanzliche und das bundesgerichtliche '\n",
      "         'Verfahren angemessen für seine Verteidigerkosten zu entschädigen, '\n",
      "         'eventualiter die Sache unter Kosten- und Entschädigungsfolgen an die '\n",
      "         'Vor- oder die Erstinstanz zurückzuweisen. ',\n",
      " 'year': 2017}\n"
     ]
    }
   ],
   "source": [
    "# Access the first example in the training set\n",
    "pprint(swiss['train'][0])\n",
    "\n",
    "# Access the first example in the validation set\n",
    "pprint(swiss['validation'][0])\n",
    "\n",
    "# Access the first example in the test set\n",
    "pprint(swiss['test'][0])"
   ]
  },
  {
   "cell_type": "markdown",
   "id": "9ed9afff",
   "metadata": {},
   "source": [
    "## English translation"
   ]
  },
  {
   "cell_type": "code",
   "execution_count": 10,
   "id": "dea85fcb",
   "metadata": {},
   "outputs": [
    {
     "data": {
      "application/vnd.jupyter.widget-view+json": {
       "model_id": "b87ad91ecfff4f84be504ca099d59639",
       "version_major": 2,
       "version_minor": 0
      },
      "text/plain": [
       "Generating train split:   0%|          | 0/238818 [00:00<?, ? examples/s]"
      ]
     },
     "metadata": {},
     "output_type": "display_data"
    },
    {
     "data": {
      "application/vnd.jupyter.widget-view+json": {
       "model_id": "e383e427d3ac4ba188bf2666a2aeb16e",
       "version_major": 2,
       "version_minor": 0
      },
      "text/plain": [
       "Generating validation split:   0%|          | 0/8208 [00:00<?, ? examples/s]"
      ]
     },
     "metadata": {},
     "output_type": "display_data"
    },
    {
     "data": {
      "application/vnd.jupyter.widget-view+json": {
       "model_id": "f16a9e4591aa4c39a93a861bbc6df999",
       "version_major": 2,
       "version_minor": 0
      },
      "text/plain": [
       "Generating test split:   0%|          | 0/17357 [00:00<?, ? examples/s]"
      ]
     },
     "metadata": {},
     "output_type": "display_data"
    }
   ],
   "source": [
    "# Load translated dataset\n",
    "swiss_trans = load_dataset('swiss_judgment_prediction', 'all+mt', trust_remote_code=True)"
   ]
  },
  {
   "cell_type": "code",
   "execution_count": 11,
   "id": "a8a9d3fc",
   "metadata": {},
   "outputs": [
    {
     "name": "stdout",
     "output_type": "stream",
     "text": [
      "DatasetDict({\n",
      "    train: Dataset({\n",
      "        features: ['id', 'year', 'text', 'label', 'language', 'region', 'canton', 'legal area', 'source_language'],\n",
      "        num_rows: 238818\n",
      "    })\n",
      "    validation: Dataset({\n",
      "        features: ['id', 'year', 'text', 'label', 'language', 'region', 'canton', 'legal area', 'source_language'],\n",
      "        num_rows: 8208\n",
      "    })\n",
      "    test: Dataset({\n",
      "        features: ['id', 'year', 'text', 'label', 'language', 'region', 'canton', 'legal area', 'source_language'],\n",
      "        num_rows: 17357\n",
      "    })\n",
      "})\n"
     ]
    }
   ],
   "source": [
    "print(swiss_trans)"
   ]
  },
  {
   "cell_type": "code",
   "execution_count": 12,
   "id": "a7f08e13",
   "metadata": {},
   "outputs": [
    {
     "name": "stdout",
     "output_type": "stream",
     "text": [
      "{'canton': 'zh',\n",
      " 'id': 2,\n",
      " 'label': 0,\n",
      " 'language': 'de',\n",
      " 'legal area': 'insurance law',\n",
      " 'region': 'Zürich',\n",
      " 'source_language': 'n/a',\n",
      " 'text': 'A.- Der 1955 geborene V._ war seit 1. September 1986 hauptberuflich '\n",
      "         'als technischer Kaufmann bei der Firma A._ AG tätig und im Rahmen '\n",
      "         'einer Nebenbeschäftigung (Nachtarbeit) ab Mai 1990 bei einem '\n",
      "         'Bewachungsdienst angestellt gewesen, als er am 10. Februar 1991 in '\n",
      "         'Norwegen beim Hundeschlittenfahren eine Muskelruptur im Bereich des '\n",
      "         'linken Oberschenkels erlitt. Die Verletzung wurde am 26. Februar '\n",
      "         '1991 mittels Muskelnaht operativ versorgt (Bericht des Dr. med. B._, '\n",
      "         'Oberarzt, Chirurgische Klinik X._ vom 28. Februar 1991). '\n",
      "         'Beweglichkeits- und Sensibilitätsausfälle führten zum Beizug des Dr. '\n",
      "         'med. W._, Spezialarzt FMH Neurologie, welcher eine Ischiadicusparese '\n",
      "         'links, wahrscheinlich traumatisch bedingt, diagnostizierte (Bericht '\n",
      "         'vom 5. März 1991). Dr. med. S._, Spezialarzt für Chirurgie FMH, '\n",
      "         'Chefarzt Spital X._ (Bericht vom 28. Oktober 1992) bestätigte, dass '\n",
      "         'es bei der Operation vom 10. Februar 1991 zu einer Druckschädigung '\n",
      "         'des Ischiasnerv gekommen sei. Bei Versorgung mit Schiene und '\n",
      "         'Stützschuh sei V._ indes schmerz- und hinkfrei gehfähig; die '\n",
      "         'Arbeitsfähigkeit sei weder hinsichtlich der Tätigkeit als Kaufmann '\n",
      "         'noch mit Bezug auf die nunmehr aufgegebene Nebenbeschäftigung als '\n",
      "         'Wächter eingeschränkt. Mit unangefochten in Rechtskraft erwachsener '\n",
      "         'Verfügung vom 16. Dezember 1993 lehnte die IV-Stelle des Kantons '\n",
      "         'Zürich das am 2. September 1992 gestellte Rentenbegehren nach '\n",
      "         'Abklärungen in medizinischer und beruflich-erwerblicher Hinsicht '\n",
      "         'wegen eines zu geringen Invaliditätsgrades (von 33,5 %) ab. V._ geht '\n",
      "         'seit der Beendigung des Arbeitsverhältnisses mit der Firma A._ AG am '\n",
      "         '31. Juli 1993 mit Ausnahme der kurzzeitigen Anstellung (vom 1. bis '\n",
      "         '28. Dezember 1994) als Disponent bei der Firma I._ AG keiner '\n",
      "         'Erwerbstätigkeit mehr nach. Auf Grund des zuletzt geschlossenen '\n",
      "         'Arbeitsvertrages war er bei der Versicherungsgesellschaft Y._ '\n",
      "         'obligatorisch gegen die Folgen von Berufs- und Nichtberufsunfällen '\n",
      "         'versichert, als ihm am 15. Dezember 1994 eine Projektionsleinwand '\n",
      "         'auf die rechte Schulter fiel. Die dabei erlittene '\n",
      "         'Rotatorenmanschettenverletzung (bei Status nach Operation einer '\n",
      "         'habituellen Schulterluxation im Jahre 1980) bedingte am 3. Oktober '\n",
      "         '1995 einen chirurgischen Eingriff, welcher gemäss Beurteilung des '\n",
      "         'behandelnden Dr. med. T._, Co-Chefarzt, Spital Z._ (Berichte vom 21. '\n",
      "         'September und 28. Dezember 1995) komplikationslos verlief. '\n",
      "         'Entsprechend der im Bericht vom 28. Dezember 1995 gemachten '\n",
      "         'Erwartung einer vollständigen Rehabilitation sprach sich der '\n",
      "         'behandelnde Chirurg am 2. April 1996 dafür aus, V._ sei mit Blick '\n",
      "         'auf die operierte Schulter hinsichtlich einer körperlich nicht '\n",
      "         'schweren Tätigkeit zu 100 % arbeitsfähig. Nachdem sich V._ am 14. '\n",
      "         'September 1995 wegen des Schulterleidens erneut bei der '\n",
      "         'Invalidenversicherung zum Leistungsbezug angemeldet hatte, teilte '\n",
      "         'ihm die IV-Stelle des Kantons Zürich im Vorbescheid vom 21. August '\n",
      "         '1996 mit, das Leistungsbegehren werde abgewiesen. Auf Grund der im '\n",
      "         'Vorbescheidverfahren geltend gemachten psychischen Beschwerden holte '\n",
      "         'die IV-Stelle einen Bericht des behandelnden Psychiaters Dr. med. '\n",
      "         'R._, vom 12./13. Oktober 1996 ein und ordnete ein fachärztliches '\n",
      "         'Gutachten des Psychiatrischen Zentrums C._ an, das am 4. August 1997 '\n",
      "         'durch die Dres. med. N._ und O._ erstattet wurde. Gestützt auf die '\n",
      "         'ergänzenden Abklärungen setzte die IV- Stelle den Invaliditätsgrad '\n",
      "         'neu auf 100 % fest und sprach ab 1. Oktober 1996 eine ganze '\n",
      "         'Invalidenrente zu (Verfügung vom 5. Novemer 1997). B.- Die hiegegen '\n",
      "         'erhobene Beschwerde hiess das Sozialversicherungsgericht des Kantons '\n",
      "         'Zürich in dem Sinne gut, als es die angefochtene '\n",
      "         'Verwaltungsverfügung mit der Feststellung aufhob, der Anspruch auf '\n",
      "         'eine ganze Rente bestünde bereits ab 1. Januar 1996 (Entscheid vom '\n",
      "         '20. Juli 1999). C.- V._ lässt Verwaltungsgerichtsbeschwerde führen '\n",
      "         'und beantragen, es sei ihm bereits ab 1. März 1995 eine Rente '\n",
      "         'zuzusprechen. Während die IV-Stelle auf eine Stellungnahme '\n",
      "         'verzichtet, lässt sich das Bundesamt für Sozialversicherung nicht '\n",
      "         'vernehmen. ',\n",
      " 'year': 2000}\n",
      "{'canton': 'be',\n",
      " 'id': 48757,\n",
      " 'label': 0,\n",
      " 'language': 'de',\n",
      " 'legal area': 'penal law',\n",
      " 'region': 'Espace Mittelland',\n",
      " 'source_language': 'n/a',\n",
      " 'text': 'Sachverhalt: A. X._ war bei der Krankenversicherung C._ '\n",
      "         'taggeldversichert. Infolge einer Arbeitsunfähigkeit leistete ihm die '\n",
      "         'C._ vom 30. Juni 2011 bis am 28. Juni 2013 Krankentaggelder, wobei '\n",
      "         'die Leistungen bis am 30. September 2012 auf Grundlage einer '\n",
      "         'Arbeitsunfähigkeit von 100% und danach basierend auf einer '\n",
      "         'Arbeitsunfähigkeit von 55% erbracht wurden. Die Neueinschätzung der '\n",
      "         'Arbeitsfähigkeit erfolgte anhand eines Gutachtens der D._ AG vom 27. '\n",
      "         'August 2012, welches im Auftrag der C._ erstellt wurde. X._ machte '\n",
      "         'daraufhin gegenüber der C._ geltend, er sei entgegen dem Gutachten '\n",
      "         'auch nach dem 30. September 2012 zu 100% arbeitsunfähig gewesen. '\n",
      "         'Ferner verlangte er von der D._ AG zwecks externer Überprüfung des '\n",
      "         'Gutachtens die Herausgabe sämtlicher diesbezüglicher Notizen, '\n",
      "         'Auswertungen und Unterlagen. A._ (als Geschäftsführer der D._ AG) '\n",
      "         'und B._ (als für das Gutachten medizinisch Verantwortliche) '\n",
      "         'antworteten ihm, dass sie alle Unterlagen der C._ zugestellt hätten '\n",
      "         'und dass allfällige Fragen zum Gutachten direkt der C._ zu stellen '\n",
      "         'seien. X._ reichte am 2. Januar 2014 eine Strafanzeige gegen A._ und '\n",
      "         'B._ ein. Er wirft diesen vor, ihn durch die Nichtherausgabe der '\n",
      "         'Dokumente und durch Behinderung des IV-Verfahrens genötigt, Daten '\n",
      "         'beschädigt bzw. vernichtet und ein falsches ärztliches Zeugnis '\n",
      "         'ausgestellt zu haben. Zudem hätten sie durch die Verzögerung des '\n",
      "         'IV-Verfahrens und insbesondere durch das falsche ärztliche Zeugnis '\n",
      "         'sein Vermögen arglistig geschädigt. B. Die Staatsanwaltschaft des '\n",
      "         'Kantons Bern, Region Oberland, nahm das Verfahren wegen Nötigung, '\n",
      "         'Datenbeschädigung, falschem ärztlichem Zeugnis und arglistiger '\n",
      "         'Vermögensschädigung mit Verfügung vom 10. November 2014 nicht an die '\n",
      "         'Hand. Das Obergericht des Kantons Bern wies die von X._ dagegen '\n",
      "         'erhobene Beschwerde am 27. April 2015 ab, soweit darauf einzutreten '\n",
      "         'war. C. X._ beantragt mit Beschwerde in Strafsachen, der Beschluss '\n",
      "         'vom 27. April 2015 sei aufzuheben und die Angelegenheit zur '\n",
      "         'korrekten Ermittlung des Sachverhalts an die Staatsanwaltschaft '\n",
      "         'zurückzuweisen. Er stellt zudem den sinngemässen Antrag, das '\n",
      "         'bundesgerichtliche Verfahren sei während der Dauer des konnexen '\n",
      "         'Strafverfahrens gegen eine Teilgutachterin und des ebenfalls '\n",
      "         'konnexen Zivil- oder Strafverfahrens gegen die C._ wegen '\n",
      "         'Einsichtsverweigerung in das mutmasslich gefälschte '\n",
      "         'Originalgutachten zu sistieren. X._ ersucht um unentgeltliche '\n",
      "         'Rechtspflege. ',\n",
      " 'year': 2015}\n",
      "{'canton': 'zh',\n",
      " 'id': 56400,\n",
      " 'label': 0,\n",
      " 'language': 'de',\n",
      " 'legal area': 'penal law',\n",
      " 'region': 'Zürich',\n",
      " 'source_language': 'n/a',\n",
      " 'text': 'Sachverhalt: A. Das Bezirksgericht Bülach hatte im Jahre 2014 eine '\n",
      "         'Strafverfügung des Bundesamts für Zivilluftfahrt (BAZL) zu '\n",
      "         'beurteilen, in der es teilweise um den gleichen Sachverhalt wie im '\n",
      "         'heutigen Verfahren ging, nämlich um das nicht korrekte Führen von '\n",
      "         'Flugbüchern zu Flugzeugen der A._ AG in den Jahren 2010 bis 2012. Es '\n",
      "         'wies am 18. August 2014 die vom BAZL beantragte Bestrafung der AG im '\n",
      "         'Sinne von Art. 7 Abs. 1 Bundesgesetz über das Verwaltungsstrafrecht '\n",
      "         '(VStrR; SR 313.0) als unzulässig ab, weil es mit verhältnismässigem '\n",
      "         'Aufwand möglich gewesen wäre, die verantwortlichen natürlichen '\n",
      "         'Personen zu ermitteln. Das BAZL erliess am 17. September 2015 zu '\n",
      "         'einem Teil der fehlenden Eintragungen in den Flugbüchern einen '\n",
      "         'Strafbescheid gegen X._ als natürliche Person. Dieser erhob '\n",
      "         'Einsprache. Das BAZL erliess am 22. Oktober 2015 eine Strafverfügung '\n",
      "         'gestützt auf Art. 70 VStrR, worin es 7 fehlende Eintragungen fallen '\n",
      "         'liess und X._ wegen der 17 verbleibenden mit Fr. 850.-- büsste. '\n",
      "         'Dieser erhob Einsprache, worauf das BAZL die Sache zur gerichtlichen '\n",
      "         'Beurteilung überwies. B. Das Bezirksgericht Bülach bestrafte am 4. '\n",
      "         \"Mai 2016 X._ mit einer Busse von Fr. 4'000.-- wegen mehrfacher \"\n",
      "         'fahrlässiger Widerhandlung gegen Art. 20 Abs. 1 und Abs. 4 '\n",
      "         'Verordnung der UVEK über die Lufttüchtigkeit von Luftfahrzeugen '\n",
      "         '(VLL; SR 748.215.1) i.V.m. Art. 5 Abs. 1 Verordnung über die Rechte '\n",
      "         'und Pflichten des Kommandanten eines Luftfahrzeugs (VLLV; SR '\n",
      "         '748.225.1) sowie Art. 52a VLL und Art. 91 Abs. 1 lit. i Bundesgesetz '\n",
      "         'über die Luftfahrt (LFG; SR 748.0). X._ erhob Berufung. Das '\n",
      "         'Obergericht des Kantons Zürich bestätigte am 10. Januar 2017 den '\n",
      "         'bezirksgerichtlichen Schuldspruch und büsste ihn mit Fr. 850.--. C. '\n",
      "         'X._ beantragt mit Beschwerde in Strafsachen, das vorinstanzliche '\n",
      "         'Urteil aufzuheben, das Verfahren wegen Verjährung einzustellen, '\n",
      "         'soweit Widerhandlungen vor dem 4. Mai 2012 betroffen seien, ihn '\n",
      "         'wegen der Widerhandlungen vom 6. und 7. Juli 2012 betreffend '\n",
      "         'insgesamt 105 Flugminuten schuldig zu erklären und angemessen zu '\n",
      "         'bestrafen, die Kosten des erstinstanzlichen Verfahrens anteilsmässig '\n",
      "         'festzusetzen und jene des vorinstanzlichen den Beschwerdegegnerinnen '\n",
      "         'aufzuerlegen, ihm für den eingestellten Teil des erstinstanzlichen '\n",
      "         'Verfahrens sowie für das vorinstanzliche und das bundesgerichtliche '\n",
      "         'Verfahren angemessen für seine Verteidigerkosten zu entschädigen, '\n",
      "         'eventualiter die Sache unter Kosten- und Entschädigungsfolgen an die '\n",
      "         'Vor- oder die Erstinstanz zurückzuweisen. ',\n",
      " 'year': 2017}\n"
     ]
    }
   ],
   "source": [
    "# Access the first example in the training set\n",
    "pprint(swiss_trans['train'][0])\n",
    "\n",
    "# Access the first example in the validation set\n",
    "pprint(swiss_trans['validation'][0])\n",
    "\n",
    "# Access the first example in the test set\n",
    "pprint(swiss_trans['test'][0])"
   ]
  },
  {
   "cell_type": "code",
   "execution_count": 14,
   "id": "559a6c4b",
   "metadata": {},
   "outputs": [
    {
     "name": "stdout",
     "output_type": "stream",
     "text": [
      "{'fr', 'de', 'it', 'n/a'}\n"
     ]
    }
   ],
   "source": [
    "# Get the different values for the \"source_language\" field in the training set\n",
    "source_languages = set(swiss_trans['train']['source_language'])\n",
    "print(source_languages)"
   ]
  },
  {
   "cell_type": "code",
   "execution_count": 15,
   "id": "cb112871",
   "metadata": {},
   "outputs": [
    {
     "data": {
      "application/vnd.jupyter.widget-view+json": {
       "model_id": "dbbb8747561f459e88c2e50258e86d5a",
       "version_major": 2,
       "version_minor": 0
      },
      "text/plain": [
       "Filter:   0%|          | 0/238818 [00:00<?, ? examples/s]"
      ]
     },
     "metadata": {},
     "output_type": "display_data"
    },
    {
     "name": "stdout",
     "output_type": "stream",
     "text": [
      "{'canton': 'n/a',\n",
      " 'id': 0,\n",
      " 'label': 0,\n",
      " 'language': 'de',\n",
      " 'legal area': 'insurance law',\n",
      " 'region': 'n/a',\n",
      " 'source_language': 'fr',\n",
      " 'text': 'A.-a) L._ arbeitet seit 1981 als Gesundheitsinstaller in der '\n",
      "         'Schweiz. Am 20. Februar 1992, während seiner Arbeit, fiel er von '\n",
      "         'einer Skala. Konsultiert am Tag nach dem Vorfall stellte der Arzt '\n",
      "         'D._ die Diagnose von cervikalischer Entorse, Lombakontusionen und '\n",
      "         'Verzerrung des rechten Schulters mit mehreren Hematomen fest; er '\n",
      "         'zeigte ab dem Tag der Konsultation eine vollständige '\n",
      "         'Arbeitslosigkeit (Bericht vom 4. März 1992). Die schweizerische '\n",
      "         'nationale Unfallkasse (CNA) hat den Fall übernommen. Seitdem klagt '\n",
      "         'L._ sich über cervikale Schmerzen, Gehirnschmerzen, Schmerzen sowie '\n",
      "         'kontinuierliche Wärmegefühle und nimmt keine berufliche Aktivität '\n",
      "         'mehr auf. Er hat mehrere Untersuchungen unterzogen, deren Ergebnisse '\n",
      "         'innerhalb der Norm gezeigt wurden, was seinen neuen behandelnden '\n",
      "         'Arzt, Dr. K._, dazu führte, insbesondere zu einem wichtigen '\n",
      "         'post-traumatischen subjektiven Syndrom (Bericht vom 16. Juni 1992). '\n",
      "         'Trotz der verschiedenen Behandlungen, von denen er profitierte '\n",
      "         '(Fysiotherapie-Sitzungen, Behandlung in der Bellikon '\n",
      "         'Rehabilitationsklinik), blieben die Beschwerden des Versicherten '\n",
      "         'unverändert. b) Am 26. Oktober folgte, dass L._ Opfer eines '\n",
      "         'Verkehrsunfalles war, sein Fahrzeug bei der Haltestelle von einem '\n",
      "         'Feuerwehr an der Rückseite geschlagen wurde. Angesichts der '\n",
      "         'unerwünschten Entwicklung des Falles hat die CNA zusätzliche '\n",
      "         'medizinische Informationen verlangt. Insbesondere hat sie eine '\n",
      "         'Expertise an Dr. A._, Leiter der Neurologie-Klinik des kantonalen '\n",
      "         'Universitätshospitals von Y._ übertragen. Dieser Arzt berichtete '\n",
      "         '\"aspektive neurologische Störungen, die einem posttraumatischen '\n",
      "         'Syndrom mit moderater Intensität entsprechen\" und zu einer '\n",
      "         'Arbeitslosigkeit von 35% führen (Bericht vom 14. Februar 1994). Nach '\n",
      "         'der Untersuchung des Versicherten erkannte Dr. R._, CNA-Rundarzt, '\n",
      "         'dass er auf dem Gebiet des Lokomotivgeräts nicht mehr in der Lage '\n",
      "         'war, sein frühes Beruf zurückzuziehen, wobei er darauf hingewiesen '\n",
      "         'hatte, dass es theoretisch eine Restarbeitskapazität existierte – '\n",
      "         'die dieser Arzt zuerst auf 75 % beurteilte und später auf 100 % – in '\n",
      "         'einer Aktivität, die seinem Gesundheitszustand entspricht (Bericht '\n",
      "         'vom 19. Mai 1994 und 9. Januar 1996). c) Zwischenzeitlich hat L._ am '\n",
      "         '11. November 1993 einen Antrag auf Leistungen der '\n",
      "         'Invaliditätsversicherung eingereicht, der auf Maßnahmen zur '\n",
      "         'beruflichen Rehabilitation oder eine Rente gerichtet ist. Um zu '\n",
      "         'bestimmen, welche Tätigkeiten der Versicherten noch zugänglich sind, '\n",
      "         'wurde vom 13. März bis zum 7. April 1995 in Genf im COPAI '\n",
      "         '(Professional Observation Centre for Invalidity Insurance) ein '\n",
      "         'Praktikum organisiert. Diese Praktikum wurde jedoch '\n",
      "         \"unterbrochen2jourssurlabased'uncertificatmedicaldumdecintraitant. \"\n",
      "         'Das OfficeAIducantondeGenève (im Folgenden: das Büro) hat dann den '\n",
      "         'Versicherten an eine Expertise überwiesen, die den Ärzten U._, '\n",
      "         'Psychiater, und O._, Rheumatologe, des Multidisziplinären '\n",
      "         'Schmerzzzentrums der Klinik Z._. Sie stellten die Diagnose der '\n",
      "         'kompensierten Sinistrose und der gemeinsamen Cervico-Lombalgie vor, '\n",
      "         'wobei eine objektive Arbeitsfähigkeit von 100 % (Bericht vom 31. '\n",
      "         'Oktober 1995) ergriffen wurde. Später, während einer endgültigen '\n",
      "         'Untersuchung des Versicherten, Dr. M._, Arzt der CNA, festgestellt '\n",
      "         'eine freie aktive Mobilität der Wirbelsäule (obwohl die von der '\n",
      "         'betroffenen Person ausgedrückten Schmerzen), und legte den '\n",
      "         'Schwerpunkt auf das von ihm angenommene Invalid Verhalten, zusammen '\n",
      "         'mit den Beobachtungen des Dr. U._ (Bericht vom 22. November 1996). '\n",
      "         'Auf der Grundlage der Expertise vom 31. Oktober 1995 sowie der '\n",
      "         'Bewertung des Arztes M._ hat das Amt durch Beschluss vom 12. Mai '\n",
      "         '1997 den Antrag des Versicherten abgelehnt. Kurz gesagt betonte er, '\n",
      "         'dass die Arbeitsunfähigkeit des letzten aus Gründen stammte, die '\n",
      "         'nicht aus der Invaliditätsversicherung stammen. Darüber hinaus hat '\n",
      "         'die CNA die Zahlung ihrer Versicherungsleistungen mit Rückwirkung am '\n",
      "         '29. Februar 1996 (entscheidung vom 14. Februar 1997) beendet. B.- '\n",
      "         'L._ '\n",
      "         \"arecourucontreladécisiondel'officedevantlaCommissioncantonalegenevoisederecoursenmatièred \"\n",
      "         'Versicherung-Alterschaft, Überlebensfähigkeit(im Folgenden: '\n",
      "         'Kommission), mit dem Schluss, dass die Verwaltung nach einer '\n",
      "         'komplementären psychiatrischen Expertise eine neue Beurteilung ihrer '\n",
      "         'Invalidität durchführt. In der Zwischenzeit erforderte die CNA eine '\n",
      "         'zweite neurologische Expertise, von der hervorgeht, dass der '\n",
      "         'wesentliche der von L._ vorgestellten klinischen Tabelle \"(relevant) '\n",
      "         'psychische Auswirkungen und die Entwicklung eines chronischen '\n",
      "         'Schmerzsyndromes, ohne offensichtliche starke organische Schädigung\" '\n",
      "         'und dass in diesem Kontext, der letzte war völlig unfähig zu '\n",
      "         'arbeiten (Bericht vom 28. März 1998 von Professor B._). Der '\n",
      "         'Versicherte und das Büro konnten sich über seinen Arzt-Ratschläger, '\n",
      "         'Dr. C._, über diese Expertise entscheiden. Am 5. März 1999 hat die '\n",
      "         'Kommission den Antrag abgelehnt. Auf seiner Seite bestätigte die CNA '\n",
      "         'ihre erste Entscheidung durch Entschließung gegen die Opposition vom '\n",
      "         '25. Juni 1998. C.- L._ fordert Rechtsbehelfe des Verwaltungsrechts '\n",
      "         'das Urteil der Kommission, dessen Aufhebung er fordert. Er schließt, '\n",
      "         'nach Ausgaben, hauptsächlich an die Erteilung einer Rente auf Basis '\n",
      "         'einer Invaliditätsrate von 100 % und, als Subsidiar, an eine '\n",
      "         'zusätzliche Ausbildung in Form einer neuen psychiatrischen '\n",
      "         'Expertise. Das Amt endet mit der Ablehnung des Antrags, während das '\n",
      "         'Bundesamt für Sozialversicherung nicht entschieden hat. D.- Im '\n",
      "         'Rahmen dieses Verfahrens hat L._ Rechtsmittel gegen ein Urteil vom '\n",
      "         '26. Januar 1999, mit dem das Verwaltungsgericht des Kantons Genf den '\n",
      "         'Rechtsmittel gegen das Urteil gegen die CNA vom 25. Juni 1998 '\n",
      "         'abgelehnt hat, eingereicht. Mit dem heutigen Urteil hat das '\n",
      "         'Bundesversicherungsgericht diesen Antrag abgelehnt (U 83/99). ',\n",
      " 'year': 2000}\n"
     ]
    }
   ],
   "source": [
    "# Get the first instance in the training set where the source language is NOT n/a\n",
    "pprint(swiss_trans['train'].filter(lambda x: x['source_language'] != 'n/a')[0])"
   ]
  },
  {
   "cell_type": "code",
   "execution_count": null,
   "id": "7c954d59",
   "metadata": {},
   "outputs": [
    {
     "name": "stdout",
     "output_type": "stream",
     "text": [
      "{'fr', 'en', 'de', 'it'}\n"
     ]
    }
   ],
   "source": [
    "# Get the different values for the \"language\" field in the training set\n",
    "target_languages = set(swiss_trans['train']['language'])\n",
    "print(target_languages)"
   ]
  },
  {
   "cell_type": "code",
   "execution_count": 17,
   "id": "6cabc4d8",
   "metadata": {},
   "outputs": [
    {
     "data": {
      "application/vnd.jupyter.widget-view+json": {
       "model_id": "b6a983ff8c4d4c2688b2a80d5dd5a889",
       "version_major": 2,
       "version_minor": 0
      },
      "text/plain": [
       "Filter:   0%|          | 0/238818 [00:00<?, ? examples/s]"
      ]
     },
     "metadata": {},
     "output_type": "display_data"
    },
    {
     "name": "stdout",
     "output_type": "stream",
     "text": [
      "{'canton': 'sg',\n",
      " 'id': 2,\n",
      " 'label': 1,\n",
      " 'language': 'en',\n",
      " 'legal area': 'insurance law',\n",
      " 'region': 'Eastern Switzerland',\n",
      " 'source_language': 'de',\n",
      " 'text': 'A. The 1945-born S._ signed on the 20th. In January 1997, the '\n",
      "         'Invalid Insurance due to pain in the back, neck and right leg to the '\n",
      "         'service transfer. The fourth place of St. Gallen took among other '\n",
      "         'things. Doctors from Dr. L. 1. April 1997 as well as Dr. H._, head '\n",
      "         'doctor of the Clinic for Neurosurgery, Canton Hospital X._, of 29. '\n",
      "         'October 1996, 9 and 20. in June 1997. On the basis of this, the '\n",
      "         'IV-point refused the right to a disability pension (arrest of 4. in '\n",
      "         'August 1997). B. The Court of Justice of the Canton. Decision of '\n",
      "         '17th. September 1999 good, he raised the order from 4. In August '\n",
      "         '1997, the case was submitted back to the IV position, so that it '\n",
      "         'understood in the sense of the considerations and then regained the '\n",
      "         'retirement claim and the right to professional measures. C. The IV '\n",
      "         'place shall file an appeal to the Administrative Court with the '\n",
      "         'request, with the cancellation of the preliminary ruling and the '\n",
      "         'ruling of Article 4. In August 1997 the matter was to be rejected to '\n",
      "         'the administration to recall a more multidisciplinary opinion. While '\n",
      "         'S._ concludes on rejection of the Administrative Court complaint, '\n",
      "         'the Federal Office for Social Insurance has not been able to hear. ',\n",
      " 'year': 2000}\n"
     ]
    }
   ],
   "source": [
    "# Get the first instance in the training set where the language is\"en\"\n",
    "pprint(swiss_trans['train'].filter(lambda x: x['language'] == 'en')[0])"
   ]
  },
  {
   "cell_type": "code",
   "execution_count": 32,
   "id": "a9f44e5b",
   "metadata": {},
   "outputs": [
    {
     "name": "stdout",
     "output_type": "stream",
     "text": [
      "{'canton': 'zh',\n",
      " 'id': 2,\n",
      " 'label': 0,\n",
      " 'language': 'de',\n",
      " 'legal area': 'insurance law',\n",
      " 'region': 'Zürich',\n",
      " 'source_language': 'n/a',\n",
      " 'text': 'A.- Der 1955 geborene V._ war seit 1. September 1986 hauptberuflich '\n",
      "         'als technischer Kaufmann bei der Firma A._ AG tätig und im Rahmen '\n",
      "         'einer Nebenbeschäftigung (Nachtarbeit) ab Mai 1990 bei einem '\n",
      "         'Bewachungsdienst angestellt gewesen, als er am 10. Februar 1991 in '\n",
      "         'Norwegen beim Hundeschlittenfahren eine Muskelruptur im Bereich des '\n",
      "         'linken Oberschenkels erlitt. Die Verletzung wurde am 26. Februar '\n",
      "         '1991 mittels Muskelnaht operativ versorgt (Bericht des Dr. med. B._, '\n",
      "         'Oberarzt, Chirurgische Klinik X._ vom 28. Februar 1991). '\n",
      "         'Beweglichkeits- und Sensibilitätsausfälle führten zum Beizug des Dr. '\n",
      "         'med. W._, Spezialarzt FMH Neurologie, welcher eine Ischiadicusparese '\n",
      "         'links, wahrscheinlich traumatisch bedingt, diagnostizierte (Bericht '\n",
      "         'vom 5. März 1991). Dr. med. S._, Spezialarzt für Chirurgie FMH, '\n",
      "         'Chefarzt Spital X._ (Bericht vom 28. Oktober 1992) bestätigte, dass '\n",
      "         'es bei der Operation vom 10. Februar 1991 zu einer Druckschädigung '\n",
      "         'des Ischiasnerv gekommen sei. Bei Versorgung mit Schiene und '\n",
      "         'Stützschuh sei V._ indes schmerz- und hinkfrei gehfähig; die '\n",
      "         'Arbeitsfähigkeit sei weder hinsichtlich der Tätigkeit als Kaufmann '\n",
      "         'noch mit Bezug auf die nunmehr aufgegebene Nebenbeschäftigung als '\n",
      "         'Wächter eingeschränkt. Mit unangefochten in Rechtskraft erwachsener '\n",
      "         'Verfügung vom 16. Dezember 1993 lehnte die IV-Stelle des Kantons '\n",
      "         'Zürich das am 2. September 1992 gestellte Rentenbegehren nach '\n",
      "         'Abklärungen in medizinischer und beruflich-erwerblicher Hinsicht '\n",
      "         'wegen eines zu geringen Invaliditätsgrades (von 33,5 %) ab. V._ geht '\n",
      "         'seit der Beendigung des Arbeitsverhältnisses mit der Firma A._ AG am '\n",
      "         '31. Juli 1993 mit Ausnahme der kurzzeitigen Anstellung (vom 1. bis '\n",
      "         '28. Dezember 1994) als Disponent bei der Firma I._ AG keiner '\n",
      "         'Erwerbstätigkeit mehr nach. Auf Grund des zuletzt geschlossenen '\n",
      "         'Arbeitsvertrages war er bei der Versicherungsgesellschaft Y._ '\n",
      "         'obligatorisch gegen die Folgen von Berufs- und Nichtberufsunfällen '\n",
      "         'versichert, als ihm am 15. Dezember 1994 eine Projektionsleinwand '\n",
      "         'auf die rechte Schulter fiel. Die dabei erlittene '\n",
      "         'Rotatorenmanschettenverletzung (bei Status nach Operation einer '\n",
      "         'habituellen Schulterluxation im Jahre 1980) bedingte am 3. Oktober '\n",
      "         '1995 einen chirurgischen Eingriff, welcher gemäss Beurteilung des '\n",
      "         'behandelnden Dr. med. T._, Co-Chefarzt, Spital Z._ (Berichte vom 21. '\n",
      "         'September und 28. Dezember 1995) komplikationslos verlief. '\n",
      "         'Entsprechend der im Bericht vom 28. Dezember 1995 gemachten '\n",
      "         'Erwartung einer vollständigen Rehabilitation sprach sich der '\n",
      "         'behandelnde Chirurg am 2. April 1996 dafür aus, V._ sei mit Blick '\n",
      "         'auf die operierte Schulter hinsichtlich einer körperlich nicht '\n",
      "         'schweren Tätigkeit zu 100 % arbeitsfähig. Nachdem sich V._ am 14. '\n",
      "         'September 1995 wegen des Schulterleidens erneut bei der '\n",
      "         'Invalidenversicherung zum Leistungsbezug angemeldet hatte, teilte '\n",
      "         'ihm die IV-Stelle des Kantons Zürich im Vorbescheid vom 21. August '\n",
      "         '1996 mit, das Leistungsbegehren werde abgewiesen. Auf Grund der im '\n",
      "         'Vorbescheidverfahren geltend gemachten psychischen Beschwerden holte '\n",
      "         'die IV-Stelle einen Bericht des behandelnden Psychiaters Dr. med. '\n",
      "         'R._, vom 12./13. Oktober 1996 ein und ordnete ein fachärztliches '\n",
      "         'Gutachten des Psychiatrischen Zentrums C._ an, das am 4. August 1997 '\n",
      "         'durch die Dres. med. N._ und O._ erstattet wurde. Gestützt auf die '\n",
      "         'ergänzenden Abklärungen setzte die IV- Stelle den Invaliditätsgrad '\n",
      "         'neu auf 100 % fest und sprach ab 1. Oktober 1996 eine ganze '\n",
      "         'Invalidenrente zu (Verfügung vom 5. Novemer 1997). B.- Die hiegegen '\n",
      "         'erhobene Beschwerde hiess das Sozialversicherungsgericht des Kantons '\n",
      "         'Zürich in dem Sinne gut, als es die angefochtene '\n",
      "         'Verwaltungsverfügung mit der Feststellung aufhob, der Anspruch auf '\n",
      "         'eine ganze Rente bestünde bereits ab 1. Januar 1996 (Entscheid vom '\n",
      "         '20. Juli 1999). C.- V._ lässt Verwaltungsgerichtsbeschwerde führen '\n",
      "         'und beantragen, es sei ihm bereits ab 1. März 1995 eine Rente '\n",
      "         'zuzusprechen. Während die IV-Stelle auf eine Stellungnahme '\n",
      "         'verzichtet, lässt sich das Bundesamt für Sozialversicherung nicht '\n",
      "         'vernehmen. ',\n",
      " 'year': 2000}\n"
     ]
    }
   ],
   "source": [
    "# Get the original language for the text above\n",
    "original_language = swiss_trans['train'].filter(lambda x: (x['id'] == 2) and (x['language'] == 'de') and (x['source_language'] == 'n/a'))\n",
    "pprint(original_language[0])"
   ]
  },
  {
   "cell_type": "markdown",
   "id": "3760539e",
   "metadata": {},
   "source": [
    "Translation by DeepL:\n",
    "\n",
    "'A.- V._, born in 1955, had been working full-time '\n",
    " 'as a technical salesman for the company A._ AG since September 1, 1986 and had been employed as part of '\n",
    " 'a secondary occupation (night work) by a '\n",
    " 'security service from May 1990 when he suffered a muscle rupture in the area of his '\n",
    " 'left thigh while dog sledding in '\n",
    " 'Norway on February 10, 1991. The injury was surgically treated on February 26, '\n",
    " '1991 by means of muscle suturing (report by Dr. med. B._, '\n",
    " 'Senior Physician, Surgical Clinic X._ dated February 28, 1991). '\n",
    " 'Loss of mobility and sensitivity led to the consultation of Dr. '\n",
    " 'med. W._, specialist in FMH Neurology, who diagnosed a left ischiadicus palsy '\n",
    " 'probably caused by trauma (report '\n",
    " 'dated March 5, 1991). Dr. med. S._, specialist in surgery FMH, '\n",
    " 'Chief Physician Hospital X._ (report dated October 28, 1992) confirmed that '\n",
    " 'pressure damage '\n",
    " 'to the sciatic nerve had occurred during the operation on February 10, 1991. With a splint and '\n",
    " ' support shoe, V._ was, however, able to walk without pain or a limp; his '\n",
    " ' ability to work was neither restricted with regard to his activity as a businessman '\n",
    " ' nor with regard to the secondary occupation as a '\n",
    " ' guard, which he had now given up. With the uncontested and legally binding '\n",
    " 'decision of 16 December..."
   ]
  },
  {
   "cell_type": "markdown",
   "id": "adad5273",
   "metadata": {},
   "source": [
    "**Conclusion**: the translation to English in the dataset is pure trash. Good translation APIs that we could use:\n",
    "1. DeepL: https://www.deepl.com/en/pro#developer (5€ per month + €20.00 per 1.000.000 characters)\n",
    "2. Google Cloud Translation API (Google Translate API): https://cloud.google.com/translate/docs ($300 free credit, but after that very expensive)\n",
    "3. Libre translate (free translator, but doesn't work very well): https://libretranslate.com/"
   ]
  },
  {
   "cell_type": "markdown",
   "id": "25a7ba94",
   "metadata": {},
   "source": [
    "## How much would translating the original dataset cost? Counting the number of characters of the original dataset"
   ]
  },
  {
   "cell_type": "code",
   "execution_count": 35,
   "id": "58788625",
   "metadata": {},
   "outputs": [
    {
     "name": "stdout",
     "output_type": "stream",
     "text": [
      "Total characters: 203219455\n",
      "Total characters: 25056077\n",
      "Total characters: 59217191\n",
      "Total characters in all sets: 287492723\n"
     ]
    }
   ],
   "source": [
    "def count_total_characters(data):\n",
    "    return sum(len(item['text']) for item in data)\n",
    "\n",
    "# Training set character count\n",
    "total_characters_train = count_total_characters(swiss['train'])\n",
    "print(f\"Total characters: {total_characters_train}\")\n",
    "\n",
    "# Validation set character count\n",
    "total_characters_validation = count_total_characters(swiss['validation'])\n",
    "print(f\"Total characters: {total_characters_validation}\")\n",
    "\n",
    "# Test set character count\n",
    "total_characters_test = count_total_characters(swiss['test'])\n",
    "print(f\"Total characters: {total_characters_test}\")\n",
    "\n",
    "# Number of total instances in all sets\n",
    "total_characters = total_characters_train + total_characters_validation + total_characters_test\n",
    "print(f\"Total characters in all sets: {total_characters}\")"
   ]
  },
  {
   "cell_type": "markdown",
   "id": "1f545f41",
   "metadata": {},
   "source": [
    "287 million characters. Oh my god. If we only translated, say, French judgements (approx. 35% of the total) we would have to translate 100M characters."
   ]
  },
  {
   "cell_type": "markdown",
   "id": "53c6b9cc",
   "metadata": {},
   "source": [
    "# 2. PUBHEALTH\n",
    "\n",
    "Link: https://huggingface.co/datasets/ImperialCollegeLondon/health_fact"
   ]
  },
  {
   "cell_type": "code",
   "execution_count": 36,
   "id": "242c6fa7",
   "metadata": {},
   "outputs": [
    {
     "data": {
      "application/vnd.jupyter.widget-view+json": {
       "model_id": "65ec01c93c80436695ae583c9ef2e795",
       "version_major": 2,
       "version_minor": 0
      },
      "text/plain": [
       "README.md:   0%|          | 0.00/8.61k [00:00<?, ?B/s]"
      ]
     },
     "metadata": {},
     "output_type": "display_data"
    },
    {
     "data": {
      "application/vnd.jupyter.widget-view+json": {
       "model_id": "321e3c5af83a4cbda575d422be561548",
       "version_major": 2,
       "version_minor": 0
      },
      "text/plain": [
       "health_fact.py:   0%|          | 0.00/7.08k [00:00<?, ?B/s]"
      ]
     },
     "metadata": {},
     "output_type": "display_data"
    },
    {
     "data": {
      "application/vnd.jupyter.widget-view+json": {
       "model_id": "5c9132d026c7412ea4fcc22449171799",
       "version_major": 2,
       "version_minor": 0
      },
      "text/plain": [
       "Downloading data:   0%|          | 0.00/24.9M [00:00<?, ?B/s]"
      ]
     },
     "metadata": {},
     "output_type": "display_data"
    },
    {
     "data": {
      "application/vnd.jupyter.widget-view+json": {
       "model_id": "d8cf02d611cf4b8494ff6776d28813d2",
       "version_major": 2,
       "version_minor": 0
      },
      "text/plain": [
       "Generating train split:   0%|          | 0/9832 [00:00<?, ? examples/s]"
      ]
     },
     "metadata": {},
     "output_type": "display_data"
    },
    {
     "data": {
      "application/vnd.jupyter.widget-view+json": {
       "model_id": "df3900a3f68a47d896a0188086ff9e0f",
       "version_major": 2,
       "version_minor": 0
      },
      "text/plain": [
       "Generating test split:   0%|          | 0/1235 [00:00<?, ? examples/s]"
      ]
     },
     "metadata": {},
     "output_type": "display_data"
    },
    {
     "data": {
      "application/vnd.jupyter.widget-view+json": {
       "model_id": "60fca8ed92db45c799c26490189b213f",
       "version_major": 2,
       "version_minor": 0
      },
      "text/plain": [
       "Generating validation split:   0%|          | 0/1225 [00:00<?, ? examples/s]"
      ]
     },
     "metadata": {},
     "output_type": "display_data"
    }
   ],
   "source": [
    "pubhealth = load_dataset('health_fact', trust_remote_code=True)"
   ]
  },
  {
   "cell_type": "code",
   "execution_count": 37,
   "id": "5ed7c8ac",
   "metadata": {},
   "outputs": [
    {
     "name": "stdout",
     "output_type": "stream",
     "text": [
      "DatasetDict({\n",
      "    train: Dataset({\n",
      "        features: ['claim_id', 'claim', 'date_published', 'explanation', 'fact_checkers', 'main_text', 'sources', 'label', 'subjects'],\n",
      "        num_rows: 9832\n",
      "    })\n",
      "    test: Dataset({\n",
      "        features: ['claim_id', 'claim', 'date_published', 'explanation', 'fact_checkers', 'main_text', 'sources', 'label', 'subjects'],\n",
      "        num_rows: 1235\n",
      "    })\n",
      "    validation: Dataset({\n",
      "        features: ['claim_id', 'claim', 'date_published', 'explanation', 'fact_checkers', 'main_text', 'sources', 'label', 'subjects'],\n",
      "        num_rows: 1225\n",
      "    })\n",
      "})\n"
     ]
    }
   ],
   "source": [
    "print(pubhealth)"
   ]
  },
  {
   "cell_type": "code",
   "execution_count": 38,
   "id": "2e1cdfad",
   "metadata": {},
   "outputs": [
    {
     "name": "stdout",
     "output_type": "stream",
     "text": [
      "{'claim': '\"The money the Clinton Foundation took from from foreign '\n",
      "          'governments while Hillary Clinton was secretary of state \"\"is '\n",
      "          'clearly illegal. … The Constitution says you can’t take this '\n",
      "          'stuff.\"',\n",
      " 'claim_id': '15661',\n",
      " 'date_published': 'April 26, 2015',\n",
      " 'explanation': '\"Gingrich said the Clinton Foundation \"\"took money from from '\n",
      "                'foreign governments while (Hillary Clinton) was secretary of '\n",
      "                'state. It is clearly illegal. … The Constitution says you '\n",
      "                'can’t take this stuff.\"\" A clause in the Constitution does '\n",
      "                'prohibit U.S. officials such as former Secretary of State '\n",
      "                'Hillary Clinton from receiving gifts, or emoluments, from '\n",
      "                'foreign governments. But the gifts in this case were '\n",
      "                'donations from foreign governments that went to the Clinton '\n",
      "                'Foundation, not Hillary Clinton. She was not part of the '\n",
      "                'foundation her husband founded while she was secretary of '\n",
      "                'state. Does that violate the Constitution? Some '\n",
      "                'libertarian-minded constitutional law experts say it very '\n",
      "                'well could. Others are skeptical. What’s clear is there is '\n",
      "                'room for ambiguity, and the donations are anything but '\n",
      "                '\"\"clearly illegal.\"\" The reality is this a hazy part of U.S. '\n",
      "                'constitutional\\xa0law. ',\n",
      " 'fact_checkers': 'Katie Sanders',\n",
      " 'label': 0,\n",
      " 'main_text': '\"Hillary Clinton is in the political crosshairs as the author '\n",
      "              'of a new book alleges improper financial ties between her '\n",
      "              'public and personal life. At issue in conservative author Peter '\n",
      "              'Schweizer’s forthcoming book Clinton Cash are donations from '\n",
      "              'foreign governments to the Clinton Foundation during the four '\n",
      "              'years she served as secretary of state. George Stephanopoulos '\n",
      "              'used an interview with Schweizer on ABC This Week to point out '\n",
      "              'what other nonpartisan journalists have found: There is no '\n",
      "              '\"\"smoking gun\"\" showing that donations to the foundation '\n",
      "              'influenced her foreign policy decisions. Still, former '\n",
      "              'Republican House Speaker Newt Gingrich says the donations are '\n",
      "              '\"\"clearly illegal\"\" under federal law. In his view, a donation '\n",
      "              'by a foreign government to the Clinton Foundation while Clinton '\n",
      "              'was secretary of state is the same as money sent directly to '\n",
      "              'her, he said, even though she did not join the foundation’s '\n",
      "              'board until she left her post. \"\"The Constitution of the United '\n",
      "              'States says you cannot take money from foreign governments '\n",
      "              'without explicit permission of the Congress. They wrote that in '\n",
      "              'there because they knew the danger of corrupting our system by '\n",
      "              'foreign money is enormous,\"\" Gingrich said. \"\"You had a sitting '\n",
      "              'secretary of state whose husband radically increased his speech '\n",
      "              'fees, you have a whole series of dots on the wall now where '\n",
      "              'people gave millions of dollars — oh, by the way, they happen '\n",
      "              'to get taken care of by the State Department.\"\" He continued, '\n",
      "              '\"\"My point is they took money from foreign governments while '\n",
      "              'she was secretary of State. That is clearly illegal.\"\" '\n",
      "              'PunditFact wanted to know if a criminal case against Clinton is '\n",
      "              'that open and shut. Is what happened \"\"clearly illegal\"\"? A '\n",
      "              'spokesman for the Clinton Foundation certainly disagreed, '\n",
      "              'calling Gingrich’s accusation \"\"a baseless leap\"\" because '\n",
      "              'Clinton was not part of her husband’s foundation while serving '\n",
      "              'as a senator or secretary of state. We did not hear from '\n",
      "              'Gingrich by our deadline. Foundation basics Former President '\n",
      "              'Clinton started the William J. Clinton Foundation in 2001, the '\n",
      "              'year after Hillary Clinton won her first term as a New York '\n",
      "              'senator. The foundation works with non-governmental '\n",
      "              'organizations, the private sector and governments around the '\n",
      "              'world on health, anti-poverty, HIV/AIDS and climate change '\n",
      "              'initiatives. Spokesman Craig Minassian said it’s reasonable for '\n",
      "              'the foundation to accept money from foreign governments because '\n",
      "              'of the global scope of its programs, and the donations are '\n",
      "              'usually in the form of tailored grants for specific missions. '\n",
      "              'Hillary Clinton was not part of her husband’s foundation while '\n",
      "              'she was a senator or\\xa0secretary of state. Her appointment to '\n",
      "              'the latter post required Senate confirmation and came with an '\n",
      "              'agreement between the White House and Clinton Foundation that '\n",
      "              'the foundation would be more transparent about its donors. '\n",
      "              'According to the 2008 memorandum of understanding, the '\n",
      "              'foundation would release information behind new donations and '\n",
      "              'could continue to collect donations from countries with which '\n",
      "              'it had existing relationships or running grant programs. If '\n",
      "              'countries with existing contributions significantly stepped up '\n",
      "              'their contributions, or if a new foreign government wanted to '\n",
      "              'donate, the State Department would have to approve. Clinton '\n",
      "              'took an active role in fundraising when she left the State '\n",
      "              'Department and the foundation became the Bill, Hillary & '\n",
      "              'Chelsea Clinton Foundation in 2013. But she left the board when '\n",
      "              'she announced her run for the presidency in April 2015. The '\n",
      "              'Emoluments Clause So how does Gingrich come up with the claim '\n",
      "              'that Clinton Foundation donations are \"\"clearly illegal\"\" and '\n",
      "              'unconstitutional? The answer is something known as the '\n",
      "              'Emoluments Clause. A few conservative websites have made '\n",
      "              'similar arguments in recent days, including the Federalist '\n",
      "              'blog. The Emoluments Clause, found in Article 1, Section 9 of '\n",
      "              'the Constitution, reads in part: \"\"No Title of Nobility shall '\n",
      "              'be granted by the United States: And no Person holding any '\n",
      "              'Office of Profit or Trust under them, shall, without the '\n",
      "              'Consent of the Congress, accept of any present, Emolument, '\n",
      "              'Office, or Title, of any kind whatever, from any King, Prince, '\n",
      "              'or foreign State.\"\" The framers came up with this clause to '\n",
      "              'prevent the government and leaders from granting or receiving '\n",
      "              'titles of nobility and to keep leaders free of external '\n",
      "              'influence. (An emolument, per Merriam-Webster Dictionary, is '\n",
      "              '\"\"the returns arising from office or employment usually in the '\n",
      "              'form of compensation or perquisites.\"\") Lest you think the law '\n",
      "              'is no longer relevant, the Pentagon ethics office in 2013 '\n",
      "              'warned employees the \"\"little known provision\"\" applies to all '\n",
      "              'federal employees and military retirees. There’s no mention of '\n",
      "              'spouses in the memo. J. Peter Pham, director of the Atlantic '\n",
      "              'Council’s Africa Center, said interpretation of the clause has '\n",
      "              'evolved since its adoption at the Constitutional Convention, '\n",
      "              'when the primary concern was about overseas diplomats not '\n",
      "              'seeking gifts from foreign powers they were dealing with. The '\n",
      "              'Defense Department memo, in his view, goes beyond what the '\n",
      "              'framers envisioned for the part of the memo dealing with gifts. '\n",
      "              '\"\"I think that, aside from the unambiguous parts, the burden '\n",
      "              'would be on those invoking the clause to show actual causality '\n",
      "              'that would be in violation of the clause,\"\" Pham said. Expert '\n",
      "              'discussion We asked seven different constitutional law experts '\n",
      "              'on whether the Clinton Foundation foreign donations were '\n",
      "              '\"\"clearly illegal\"\" and a violation of the Emoluments Clause. '\n",
      "              'We did not reach a consensus with their responses, though a '\n",
      "              'majority thought the layers of separation between the '\n",
      "              'foundation and Hillary Clinton work against Gingrich. The '\n",
      "              'American system often distinguishes between public officers and '\n",
      "              'private foundations, \"\"even if real life tends to blur some of '\n",
      "              'those distinctions,\"\" said American University law professor '\n",
      "              'Steve Vladeck. Vladeck added that the Emoluments Clause has '\n",
      "              'never been enforced. \"\"I very much doubt that the first case in '\n",
      "              'its history would be because a foreign government made '\n",
      "              'charitable donations to a private foundation controlled by a '\n",
      "              'government employee’s relative,\"\" he said. \"\"Gingrich may think '\n",
      "              'that giving money to the Clinton Foundation and giving money to '\n",
      "              'then-Secretary Clinton are the same thing. Unfortunately for '\n",
      "              'him, for purposes of federal regulations, statutes, and the '\n",
      "              'Constitution, they’re formally — and, thus, legally — '\n",
      "              'distinct.\"\" Robert Delahunty, a University of St. Thomas '\n",
      "              'constitutional law professor who worked in the Justice '\n",
      "              'Department’s Office of Legal Counsel from 1989 to 2003, also '\n",
      "              'called Gingrich’s link between Clinton and the foreign '\n",
      "              'governments’ gifts to the Clinton Foundation as \"\"implausible, '\n",
      "              'and in any case I don’t think we have the facts to support '\n",
      "              'it.\"\" \"\"The truth is that we establish corporate bodies like '\n",
      "              'the Clinton Foundation because the law endows these entities '\n",
      "              'with a separate and distinct legal personhood,\"\" Delahunty '\n",
      "              'said. John Harrison, University of Virginia law professor and '\n",
      "              'former deputy assistant attorney general in the Office of Legal '\n",
      "              'Counsel from 1990 to 1993, pointed to the Foreign Gifts Act, 5 '\n",
      "              'U.S.C. 7432, which sets rules for how the Emoluments Clause '\n",
      "              'should work in practice. The statute spells out the minimal '\n",
      "              'value for acceptable gifts, and says it applies to spouses of '\n",
      "              'the individuals covered, but \"\"it doesn’t say anything about '\n",
      "              'receipt of foreign gifts by other entities such as the Clinton '\n",
      "              'Foundation.\"\" \"\"I don’t know whether there’s any other '\n",
      "              'provision of federal law that would treat a foreign gift to the '\n",
      "              'foundation as having made to either of the Clintons '\n",
      "              'personally,\"\" Harrison said, who added that agencies have their '\n",
      "              'own supplemental rules for this section, and he did not know if '\n",
      "              'the State Department addressed this. Other experts on the '\n",
      "              'libertarian side of the scale thought Gingrich was more right '\n",
      "              'in his assertion. Clinton violates the clause because of its '\n",
      "              'intentionally broad phrasing about gifts of \"\"any kind '\n",
      "              'whatever,\"\" which would cover indirect gifts via the '\n",
      "              'foundation, said Dave Kopel, a constitutional law professor at '\n",
      "              'Denver University and research director at the libertarian '\n",
      "              'Independence Institute. Kopel also brought up bribery statutes, '\n",
      "              'which would require that a gift had some influence in Clinton’s '\n",
      "              'decision while secretary of state. Delahunty thought Kopel’s '\n",
      "              'reasoning would have \"\"strange consequences,\"\" such as whether '\n",
      "              'a state-owned airline flying Bill Clinton to a conference of '\n",
      "              'former heads of state counted\\xa0as a gift to Hillary Clinton. '\n",
      "              'Our ruling Gingrich said the Clinton Foundation \"\"took money '\n",
      "              'from from foreign governments while (Hillary Clinton) was '\n",
      "              'secretary of state. It is clearly illegal. … The Constitution '\n",
      "              'says you can’t take this stuff.\"\" A clause in the Constitution '\n",
      "              'does prohibit U.S. officials such as former Secretary of State '\n",
      "              'Hillary Clinton from receiving gifts, or emoluments, from '\n",
      "              'foreign governments. But the gifts in this case were donations '\n",
      "              'from foreign governments that went to the Clinton Foundation, '\n",
      "              'not Hillary Clinton. She was not part of the foundation her '\n",
      "              'husband founded while she was secretary of state. Does that '\n",
      "              'violate the Constitution? Some libertarian-minded '\n",
      "              'constitutional law experts say it very well could. Others are '\n",
      "              'skeptical. What’s clear is there is room for ambiguity, and the '\n",
      "              'donations are anything but \"\"clearly illegal.\"\" The reality is '\n",
      "              'this a hazy part of U.S. constitutional\\xa0law.',\n",
      " 'sources': 'https://www.wsj.com/articles/clinton-foundation-defends-acceptance-of-foreign-donations-1424302856, '\n",
      "            'https://www.washingtonpost.com/politics/for-clintons-speech-income-shows-how-their-wealth-is-intertwined-with-charity/2015/04/22/12709ec0-dc8d-11e4-a500-1c5bb1d8ff6a_story.html?tid=pm_politics_pop_b, '\n",
      "            'https://www.politifact.com/truth-o-meter/statements/2009/oct/29/ginny-brown-waite/does-president-need-permission-congress-accept-nob/, '\n",
      "            'https://www.politifact.com/truth-o-meter/statements/2015/feb/26/american-crossroads/conservative-group-claims-hillary-clintons-foundat/, '\n",
      "            'http://thefederalist.com/2015/03/02/the-u-s-constitution-actually-bans-hillarys-foreign-government-payola/, '\n",
      "            'https://www.wsj.com/articles/foreign-government-gifts-to-clinton-foundation-on-the-rise-1424223031, '\n",
      "            'https://www.washingtonpost.com/politics/foreign-governments-gave-millions-to-foundation-while-clinton-was-at-state-dept/2015/02/25/31937c1e-bc3f-11e4-8668-4e7ba8439ca6_story.html, '\n",
      "            'https://www.politifact.com/truth-o-meter/statements/2014/apr/01/facebook-posts/meme-says-barack-obamas-acceptance-islamic-order-a/, '\n",
      "            'https://www.nytimes.com/2015/04/20/us/politics/new-book-clinton-cash-questions-foreign-donations-to-foundation.html?&assetType=nyt_now',\n",
      " 'subjects': 'Foreign Policy, PunditFact, Newt Gingrich, '}\n",
      "{'claim': '\\xa0A baby died at an unnamed medical facility because its parents '\n",
      "          'refused to allow a black nurse to care for the child.',\n",
      " 'claim_id': '34656',\n",
      " 'date_published': 'November 10, 2015',\n",
      " 'explanation': 'Fellow Twitter users suggested @FierceFemtivist indicated she '\n",
      "                'was from Louisville, Kentucky, prior to deleting her account. '\n",
      "                'We were unable to locate any news reports of unusual infant '\n",
      "                'deaths on 8 November 2015 in that area, nor were we able to '\n",
      "                'confirm that the purported incident took place in Louisville '\n",
      "                '(or at all):',\n",
      " 'fact_checkers': 'Kim LaCapria',\n",
      " 'label': 3,\n",
      " 'main_text': 'On 8 November 2015, former Twitter user @FierceFemtivist '\n",
      "              'published an alarming series of tweets about purportedly racist '\n",
      "              'parents who allowed their child to die rather than be treated '\n",
      "              'by “n***** nurses.” The tweets in question, besides appearing '\n",
      "              'on Twitter (cached partially here), were circulated via '\n",
      "              'Facebook and Tumblr and are embedded in full below. According '\n",
      "              'to @FierceFemtivist, she “just had an infant die” that she '\n",
      "              'personally “could’ve saved” because the child’s '\n",
      "              'epithet-slinging, Confederate flag-bedecked father purportedly '\n",
      "              'physically blocked the nurse from entering the baby’s room '\n",
      "              'despite the fact that the infant\\xa0was “crashing fast.” '\n",
      "              '@FierceFemtivist claimed to be the most qualified caregiver in '\n",
      "              'the facility but did not provide a date, facility name, medical '\n",
      "              'condition, nor even a gender for the baby who purportedly died '\n",
      "              'solely because\\xa0it had racist parents. The child appeared '\n",
      "              'merely as a footnote to\\xa0the narrative\\xa0of neatly-packaged '\n",
      "              'racism, replete with a Confederate-flag wearing, stock redneck '\n",
      "              'character. Even after the baby’s preventable death, '\n",
      "              '@FierceFemtivist described its parents as unmoved by grief and '\n",
      "              'simply concerned with whether a black staff member might handle '\n",
      "              'the infant’s corpse. No response on the part of the hospital or '\n",
      "              'other medical staffers during the critical event was described '\n",
      "              'in the story; as presented, the narrative reads like the '\n",
      "              'facility passively\\xa0allowed a baby to die during an '\n",
      "              'unspecified cardiac event for the sole reason that the parents '\n",
      "              'objected to a nurse’s race (despite the fact that hospitals and '\n",
      "              'Child Protective Services maintain broad protocols for such '\n",
      "              'emergency interventions). The form of sure life-saving care '\n",
      "              'which could only have been be rendered by that one nurse (and '\n",
      "              'apparently no other on-duty caregivers) wasn’t specified\\xa0in '\n",
      "              'the account. Readers were left with a number of questions when '\n",
      "              '@FierceFemtivist deleted her account (and along with it, the '\n",
      "              'controversial tweets). Did the incident occur on 8 November '\n",
      "              '2015, the date the tweets were posted, or earlier? Where was '\n",
      "              'the facility located? Why did no other nurses or doctors '\n",
      "              'intervene and attempt to administer life-saving care, even if '\n",
      "              'they weren’t as capable of doing so? Were police summoned to '\n",
      "              'investigate the baby’s death? What was the condition\\xa0and '\n",
      "              'ultimate\\xa0cause of death? Was the baby male or female? Were '\n",
      "              'any adults (parents or medical staff) considered potentially '\n",
      "              'liable for the purported death?',\n",
      " 'sources': 'http://webcache.googleusercontent.com/search?q=cache:ayn0Ddl2o8sJ:https://twitter.com/fiercefemtivist+&cd=1&hl=en&ct=clnk&gl=us, '\n",
      "            'http://pediatrics.aappublications.org/content/120/6/1385, '\n",
      "            'http://seananmcguire.tumblr.com/post/132867210710/feelingwomanish-vngelichoe-he-didnt-want-a, '\n",
      "            'https://www.snopes.com/tachyon/2015/11/fiercefemtivist10.jpg',\n",
      " 'subjects': 'Politics, fiercefemtivist, racism'}\n",
      "{'claim': 'A mother revealed to her child in a letter after her death that she '\n",
      "          'had just one eye because she had donated the other to him.',\n",
      " 'claim_id': '33456',\n",
      " 'date_published': 'November 6, 2011',\n",
      " 'explanation': 'The one-eyed mother story expounds upon two moral messages: '\n",
      "                'the unconditional, all-encompassing love we expect mothers to '\n",
      "                'always feel for their children, and the admonition to not put '\n",
      "                'off cherishing loved ones and appreciating their sacrifices '\n",
      "                'while they’re still around.',\n",
      " 'fact_checkers': 'David Mikkelson',\n",
      " 'label': 0,\n",
      " 'main_text': 'In April 2005, we spotted a tearjerker on the Internet about a '\n",
      "              'mother who gave up one of her eyes to a son who had lost one of '\n",
      "              'his at an early age. By February 2007 the item was circulating '\n",
      "              'in e-mail in the following shortened version:  My mom only had '\n",
      "              'one eye. I hated her… She was such an embarrassment. She cooked '\n",
      "              'for students and teachers to support the family. There was this '\n",
      "              'one day during elementary school where my mom came to say hello '\n",
      "              'to me. I was so embarrassed. How could she do this to me? I '\n",
      "              'ignored her, threw her a hateful look and ran out. The next day '\n",
      "              'at school one of my classmates said, “EEEE, your mom only has '\n",
      "              'one eye!” I wanted to bury myself. I also wanted my mom to just '\n",
      "              'disappear. I confronted her that day and said, “If you’re only '\n",
      "              'gonna make me a laughing stock, why don’t you just die?” My mom '\n",
      "              'did not respond… I didn’t even stop to think for a second about '\n",
      "              'what I had said, because I was full of anger. I was oblivious '\n",
      "              'to her feelings. I wanted out of that house, and have nothing '\n",
      "              'to do with her. So I studied real hard, got a chance to go '\n",
      "              'abroad to study. Then, I got married. I bought a house of my '\n",
      "              'own. I had kids of my own. I was happy with my life, my kids '\n",
      "              'and the comforts. Then one day, my Mother came to visit me. She '\n",
      "              'hadn’t seen me in years and she didn’t even meet her '\n",
      "              'grandchildren. When she stood by the door, my children laughed '\n",
      "              'at her, and I yelled at her for coming over uninvited. I '\n",
      "              'screamed at her, “How dare you come to my house and scare my '\n",
      "              'children! GET OUT OF HERE! NOW!! !” And to this, my mother '\n",
      "              'quietly answered, “Oh, I’m so sorry. I may have gotten the '\n",
      "              'wrong address,” and she disappeared out of sight. One day, a '\n",
      "              'letter regarding a school reunion came to my house. So I lied '\n",
      "              'to my wife that I was going on a business trip. After the '\n",
      "              'reunion, I went to the old shack just out of curiosity. My '\n",
      "              'neighbors said that she died. I did not shed a single tear. '\n",
      "              'They handed me a letter that she had wanted me to have. My '\n",
      "              'dearest son, I think of you all the time. I’m sorry that I came '\n",
      "              'to your house and scared your children. I was so glad when I '\n",
      "              'heard you were coming for the reunion. But I may not be able to '\n",
      "              'even get out of bed to see you. I’m sorry that I was a constant '\n",
      "              'embarrassment to you when you were growing up. You see……..when '\n",
      "              'you were very little, you got into an accident, and lost your '\n",
      "              'eye. As a mother, I couldn’t stand watching you having to grow '\n",
      "              'up with one eye. So I gave you mine. I was so proud of my son '\n",
      "              'who was seeing a whole new world for me, in my place, with that '\n",
      "              'eye. With all my love to you, Your mother. In its earlier '\n",
      "              'incarnation, the story identified by implication its location '\n",
      "              'as Korea through statements made by both the mother and the son '\n",
      "              '(the son’s “I left my mother and came to Seoul” and the '\n",
      "              'mother’s “I won’t visit Seoul anymore”). It also supplied a '\n",
      "              'reason for the son’s behavior when his mother arrived '\n",
      "              'unexpectedly to visit him (“My little girl ran away, scared of '\n",
      "              'my mom’s eye” and “I screamed at her, ‘How dare you come to my '\n",
      "              \"house and scare my daughter!'”). A further twist was provided \"\n",
      "              'in the original: rather than gaining the news of his mother’s '\n",
      "              'death from neighbors (who hand him her letter), the son instead '\n",
      "              'discovered the woman who bore him lying dead on the floor of '\n",
      "              'what used to be his childhood home, her missive to him clutched '\n",
      "              'in her lifeless hand: Give your parents roses while they are '\n",
      "              'alive, not deadMY mom only had one eye. I hated her … she was '\n",
      "              'such an embarrassment. My mom ran a small shop at a flea '\n",
      "              'market. She collected little weeds and such to sell … anything '\n",
      "              'for the money we needed she was such an embarrassment. There '\n",
      "              'was this one day during elementary school … It was field day, '\n",
      "              'and my mom came. I was so embarrassed. How could she do this to '\n",
      "              'me? I threw her a hateful look and ran out. The next day at '\n",
      "              'school … “your mom only has one eye?!? !” … And they taunted '\n",
      "              'me. I wished that my mom would just disappear from this world '\n",
      "              'so I said to my mom, “mom … Why don’t you have the other eye?! '\n",
      "              'If you’re only going to make me a laughingstock, why don’t you '\n",
      "              'just die?!! !” my mom did not respond … I guess I felt a little '\n",
      "              'bad, but at the same time, it felt good to think that I had '\n",
      "              'said what I’d wanted to say all this time… maybe it was because '\n",
      "              'my mom hadn’t punished me, but I didn’t think that I had hurt '\n",
      "              'her feelings very badly. That night… I woke up, and went to the '\n",
      "              'kitchen to get a glass of water. My mom was crying there, so '\n",
      "              'quietly, as if she was afraid that she might wake me. I took a '\n",
      "              'look at her, and then turned away. Because of the thing I had '\n",
      "              'said to her earlier, there was something pinching at me in the '\n",
      "              'corner of my heart. Even so, I hated my mother who was crying '\n",
      "              'out of her one eye. So I told myself that I would grow up and '\n",
      "              'become successful. Because I hated my one-eyed mom and our '\n",
      "              'desperate poverty… then I studied real hard. I left my mother '\n",
      "              'and came to Seoul and studied, and got accepted in the Seoul '\n",
      "              'University with all the confidence I had. Then, I got married. '\n",
      "              'I bought a house of my own. Then I had kids, too… now I’m '\n",
      "              'living happily as a successful man. I like it here because it’s '\n",
      "              'a place that doesn’t remind me of my mom. This happiness was '\n",
      "              'getting bigger and bigger, when… what?! Who’s this…it was my '\n",
      "              'mother… still with her one eye. It felt as if the whole sky was '\n",
      "              'falling apart on me. My little girl ran away, scared of my '\n",
      "              'mom’s eye. And I asked her, “who are you? !” “I don’t know '\n",
      "              'you!! !” as if trying to make that real. I screamed at her, '\n",
      "              '“How dare you come to my house and scare my daughter!” “GET OUT '\n",
      "              'OF HERE! NOW!! !” and to this, my mother quietly answered, “oh, '\n",
      "              'I’m so sorry. I may have gotten the wrong address,” and she '\n",
      "              'disappeared out of sight. Thank goodness… she doesn’t recognize '\n",
      "              'me… I was quite relieved. I told myself that I wasn’t going to '\n",
      "              'care, or think about this for the rest of my life. Then a wave '\n",
      "              'of relief came upon me… One day, a letter regarding a school '\n",
      "              'reunion came to my house. So, lying to my wife that I was going '\n",
      "              'on a business trip, I went. After the reunion, I went down to '\n",
      "              'the old shack, that I used to call a house… just out of '\n",
      "              'curiosity there, I found my mother fallen on the cold ground. '\n",
      "              'But I did not shed a single tear. She had a piece of paper in '\n",
      "              'her hand…. it was a letter to me. My son… I think my life has '\n",
      "              'been long enough now… And… I won’t visit Seoul anymore… but '\n",
      "              'would it be too much to ask if I wanted you to come visit me '\n",
      "              'once in a while? I miss you so much… and I was so glad when I '\n",
      "              'heard you were coming for the reunion. But I decided not to go '\n",
      "              'to the school. …for you… and I’m sorry that I only have one '\n",
      "              'eye, and I was an embarrassment for you. You see, when you were '\n",
      "              'very little, you got into an accident, and lost your eye. as a '\n",
      "              'mom, I couldn’t stand watching you having to grow up with only '\n",
      "              'one eye… so I gave you mine… I was so proud of my son that was '\n",
      "              'seeing a whole new world for me, in my place, with that eye. I '\n",
      "              'was never upset at you for anything you did… the couple times '\n",
      "              'that you were angry with me, I thought to myself, ‘it’s because '\n",
      "              'he loves me…’ my son. Oh, my son… I don’t want you to cry for '\n",
      "              'me, because of my death. My son, I love you my son, I love you '\n",
      "              'so much. With all modern medical technology, transplantation of '\n",
      "              'the eyeball is still impossible. The optic nerve isn’t an '\n",
      "              'ordinary nerve, but instead an inset running from the brain. '\n",
      "              'Modern medicine isn’t able to “connect” an eyeball back to '\n",
      "              'brain after an optic nerve has been severed, let alone '\n",
      "              'transplant the eye from a different person. (The only exception '\n",
      "              'is the cornea, the transparent part in front of the eye: '\n",
      "              'corneas are transplanted to replace injured and opaque ones.) '\n",
      "              'We won’t try to comment on whether any surgeon would accept an '\n",
      "              'eye from a living donor for transplant into another — we’ll '\n",
      "              'leave that to others who are far more knowledgeable about '\n",
      "              'medical ethics and transplant procedures. But we will note that '\n",
      "              'the plot device of a mother’s dramatic sacrifice for the sake '\n",
      "              'of her child’s being revealed in a written communication '\n",
      "              'delivered after her demise appears in another legend about '\n",
      "              'maternal love: the 2008 tale about a woman who left a touching '\n",
      "              'message on her cell phone even as life ebbed from her as she '\n",
      "              'used her body to shield the tot during an earthquake. Giving up '\n",
      "              'one’s own life for a loved one is central to a 2005 urban '\n",
      "              'legend about a boy on a motorcycle who has his girlfriend hug '\n",
      "              'him one last time and put on his helmet just before the crash '\n",
      "              'that kills him and spares her. Returning to the “notes from the '\n",
      "              'dead” theme is the 1995 story about a son who discovers only '\n",
      "              'through a posthumous letter from his mother what their '\n",
      "              'occasional dinner “dates” had meant to her. Another legend '\n",
      "              'we’re familiar with features a meme used in the one-eyed mother '\n",
      "              'story (the coming to light of the enduring love of the person '\n",
      "              'who died for the completely unworthy person she’d lavished it '\n",
      "              'on), but that one involves a terminally ill woman and her '\n",
      "              'cheating husband. In it, an about-to-be-spurned wife begs the '\n",
      "              'adulterous hoon she’d married to stick around for another 30 '\n",
      "              'days and to carry her over the threshold of their home once '\n",
      "              'every day of that month as her way of keeping him around long '\n",
      "              'enough for her to kick the bucket and thus spare their son the '\n",
      "              'knowledge that his parents were on the verge of divorce.',\n",
      " 'sources': ' ',\n",
      " 'subjects': 'Glurge Gallery'}\n"
     ]
    }
   ],
   "source": [
    "pprint(pubhealth['train'][0])\n",
    "pprint(pubhealth['validation'][0])\n",
    "pprint(pubhealth['test'][0])"
   ]
  }
 ],
 "metadata": {
  "kernelspec": {
   "display_name": "bse-nlp-y6-47KiC-py3.12",
   "language": "python",
   "name": "python3"
  },
  "language_info": {
   "codemirror_mode": {
    "name": "ipython",
    "version": 3
   },
   "file_extension": ".py",
   "mimetype": "text/x-python",
   "name": "python",
   "nbconvert_exporter": "python",
   "pygments_lexer": "ipython3",
   "version": "3.12.9"
  }
 },
 "nbformat": 4,
 "nbformat_minor": 5
}
