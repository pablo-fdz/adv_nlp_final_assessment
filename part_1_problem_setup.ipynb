{
 "cells": [
  {
   "cell_type": "markdown",
   "id": "c5e6bfb6",
   "metadata": {},
   "source": [
    "# 0. Instructions and setup"
   ]
  },
  {
   "cell_type": "markdown",
   "id": "fc153a5d",
   "metadata": {},
   "source": [
    "## 0.1. Instructions. Part 1: Setting Up the Problem (1.5 points)\n",
    "\n",
    "- **Objective**: Understand and establish the baseline for your chosen dataset.\n",
    "\n",
    "- **Tasks:**\n",
    "  - **a. Bibliography and SOA (0.25 points):** Present briefly your task by researching and documenting the main  objective, a potential business case and the current state of the art  for your dataset's task. Include relevant benchmarks and methodologies.  You can look at google scholar, NLP index or papers with code. \n",
    "  - **b. Dataset Description (0.5 points):** Provide a brief overview of your dataset, including size, class  distribution, and any peculiar characteristics. Include basic  descriptive statistics.\n",
    "  - **c. Random Classifier Performance (0.25 points):** Calculate the expected performance of a random classifier for your  dataset to set a benchmark. The calculation should include an  implementation. \n",
    "  - **d. Baseline Implementation (0.5 points):** Develop a rule-based classifier as a baseline. Discuss its performance in the  context of the dataset's complexity and compare it with human-level  performance if available."
   ]
  },
  {
   "cell_type": "markdown",
   "id": "c76d48a5",
   "metadata": {},
   "source": [
    "## 0.2. Libraries"
   ]
  },
  {
   "cell_type": "code",
   "execution_count": 29,
   "id": "b09d668a",
   "metadata": {},
   "outputs": [],
   "source": [
    "# !pip install polars  # Install polars for faster data processing"
   ]
  },
  {
   "cell_type": "code",
   "execution_count": 30,
   "id": "81e6d715",
   "metadata": {},
   "outputs": [],
   "source": [
    "from datasets import load_dataset\n",
    "from pprint import pprint\n",
    "import polars as pl\n",
    "import seaborn as sns\n",
    "import random\n",
    "from library.metrics import Metrics\n",
    "import matplotlib.pyplot as plt\n",
    "import numpy as np"
   ]
  },
  {
   "cell_type": "code",
   "execution_count": 31,
   "id": "5512d4ee",
   "metadata": {},
   "outputs": [],
   "source": [
    "# Initialize the metrics object to save the results\n",
    "metrics = Metrics()"
   ]
  },
  {
   "cell_type": "markdown",
   "id": "90d346c6",
   "metadata": {},
   "source": [
    "## 0.3. Random Seed"
   ]
  },
  {
   "cell_type": "code",
   "execution_count": 32,
   "id": "47509777",
   "metadata": {},
   "outputs": [],
   "source": [
    "# Set random seed for reproducibility\n",
    "random.seed(42)"
   ]
  },
  {
   "cell_type": "markdown",
   "id": "c94c4b4b",
   "metadata": {},
   "source": [
    "# 1. Bibliography and SOA"
   ]
  },
  {
   "cell_type": "markdown",
   "id": "7eaca434",
   "metadata": {},
   "source": [
    "# 2. Dataset Description: Swiss Judgement Prediction\n",
    "\n",
    "Source: https://huggingface.co/datasets/rcds/swiss_judgment_prediction"
   ]
  },
  {
   "cell_type": "markdown",
   "id": "9345759a",
   "metadata": {},
   "source": [
    "## 2.1. Loading and reestructuring the data"
   ]
  },
  {
   "cell_type": "code",
   "execution_count": 33,
   "id": "d22f656f",
   "metadata": {},
   "outputs": [],
   "source": [
    "# Load original dataset (with the original languages)\n",
    "swiss_french = load_dataset('swiss_judgment_prediction', 'fr', trust_remote_code=True)\n",
    "swiss_italian = load_dataset('swiss_judgment_prediction', 'it', trust_remote_code=True)"
   ]
  },
  {
   "cell_type": "code",
   "execution_count": 34,
   "id": "ba700b11",
   "metadata": {},
   "outputs": [
    {
     "name": "stdout",
     "output_type": "stream",
     "text": [
      "French version of the dataset:\n",
      " DatasetDict({\n",
      "    train: Dataset({\n",
      "        features: ['id', 'year', 'text', 'label', 'language', 'region', 'canton', 'legal area', 'source_language'],\n",
      "        num_rows: 21179\n",
      "    })\n",
      "    validation: Dataset({\n",
      "        features: ['id', 'year', 'text', 'label', 'language', 'region', 'canton', 'legal area', 'source_language'],\n",
      "        num_rows: 3095\n",
      "    })\n",
      "    test: Dataset({\n",
      "        features: ['id', 'year', 'text', 'label', 'language', 'region', 'canton', 'legal area', 'source_language'],\n",
      "        num_rows: 6820\n",
      "    })\n",
      "})\n",
      "\n",
      "Italian version of the dataset:\n",
      " DatasetDict({\n",
      "    train: Dataset({\n",
      "        features: ['id', 'year', 'text', 'label', 'language', 'region', 'canton', 'legal area', 'source_language'],\n",
      "        num_rows: 3072\n",
      "    })\n",
      "    validation: Dataset({\n",
      "        features: ['id', 'year', 'text', 'label', 'language', 'region', 'canton', 'legal area', 'source_language'],\n",
      "        num_rows: 408\n",
      "    })\n",
      "    test: Dataset({\n",
      "        features: ['id', 'year', 'text', 'label', 'language', 'region', 'canton', 'legal area', 'source_language'],\n",
      "        num_rows: 812\n",
      "    })\n",
      "})\n"
     ]
    }
   ],
   "source": [
    "# Print the dataset structure for the French version\n",
    "print(\"French version of the dataset:\\n\", swiss_french)\n",
    "print(\"\\nItalian version of the dataset:\\n\", swiss_italian)"
   ]
  },
  {
   "cell_type": "code",
   "execution_count": 35,
   "id": "68851d56",
   "metadata": {},
   "outputs": [
    {
     "name": "stdout",
     "output_type": "stream",
     "text": [
      "{'canton': 'n/a',\n",
      " 'id': 0,\n",
      " 'label': 0,\n",
      " 'language': 'fr',\n",
      " 'legal area': 'civil law',\n",
      " 'region': 'n/a',\n",
      " 'source_language': 'n/a',\n",
      " 'text': \"A.- Par contrat d'entreprise signé le 2 octobre 1998, Narcisse \"\n",
      "         'Pannatier, domicilié à Sion, a adjugé à Georges-André Dorsaz les '\n",
      "         \"travaux de construction d'une charpente pour une villa sise à Fully, \"\n",
      "         'dans le district de Martigny. Le 11 novembre 1998, Georges-André '\n",
      "         'Dorsaz a adressé à Narcisse Pannatier une facture de 16 179 fr.85. '\n",
      "         \"Le maître de l'ouvrage a payé 15 712 fr.55. Diverses tentatives de \"\n",
      "         \"recouvrement du solde à l'amiable ont échoué. B.- Par demande des 23 \"\n",
      "         'novembre/3 décembre 1999, Georges-André Dorsaz a ouvert action '\n",
      "         'contre Narcisse Pannatier devant le juge de commune de Fully en vue '\n",
      "         \"d'obtenir le paiement de 467 fr. plus intérêts. Le juge de commune a \"\n",
      "         'fixé une audience au 4 février 2000. Le demandeur a donné suite à '\n",
      "         \"cette convocation, mais le défendeur n'a pas comparu. Statuant le \"\n",
      "         'jour même, le juge de commune a rendu un jugement par défaut et '\n",
      "         'condamné le défendeur à payer au demandeur la somme de 467 fr., '\n",
      "         'intérêts et frais en sus. Contre ce jugement, le défendeur a '\n",
      "         'interjeté un pourvoi en nullité que le juge des districts de '\n",
      "         'Martigny et St-Maurice a rejeté, dans la mesure où il était '\n",
      "         'recevable, par décision du 30 juin 2000. C.- Agissant par la voie du '\n",
      "         \"recours de droit public, le défendeur conclut à l'annulation de \"\n",
      "         \"cette décision. Il a également formulé une requête d'effet suspensif \"\n",
      "         'qui a été rejetée par ordonnance présidentielle du 18 août 2000. Le '\n",
      "         'dossier cantonal a été transmis au Tribunal fédéral en date du 8 '\n",
      "         \"septembre 2000. Le demandeur et le magistrat intimé n'ont pas été \"\n",
      "         'invités à déposer une réponse. ',\n",
      " 'year': 2000}\n",
      "{'canton': 'fr',\n",
      " 'id': 30535,\n",
      " 'label': 0,\n",
      " 'language': 'fr',\n",
      " 'legal area': 'civil law',\n",
      " 'region': 'Espace Mittelland',\n",
      " 'source_language': 'n/a',\n",
      " 'text': 'Faits : A. A.a. A._, né en 1959, et B._, née en 1964, se sont mariés '\n",
      "         'le 21 avril 1990 à Vuisternens-devant-Romont (FR). Une enfant, C._, '\n",
      "         'née en 1996, est issue de leur union. A.b. Par jugement du 26 avril '\n",
      "         '2007, le Président du Tribunal civil de la Sarine a prononcé leur '\n",
      "         'divorce et homologué la convention complète sur les effets '\n",
      "         \"accessoires qu'ils avaient conclue. Aux termes de celle-ci, il avait \"\n",
      "         \"notamment été convenu que l'autorité parentale et la garde sur \"\n",
      "         \"l'enfant seraient confiées à sa mère, sous réserve d'un droit de \"\n",
      "         'visite usuel du père, lequel devait verser une contribution '\n",
      "         \"mensuelle à l'entretien de sa fille de 2'000 fr., plus allocations. \"\n",
      "         'Le 29 janvier 2009, la Justice de paix du cercle de la Sarine a '\n",
      "         'élargi le droit de visite du père à un mercredi après-midi sur deux '\n",
      "         'et a institué une curatelle de surveillance des relations '\n",
      "         'personnelles. A.c. Depuis le 10 septembre 2010, suite à une fugue de '\n",
      "         \"chez sa mère, C._ vit chez son père, à l'exception de quelques mois \"\n",
      "         'en 2012 durant lesquels elle a dû être placée en foyer en raison de '\n",
      "         'problèmes personnels. Le 1 er décembre 2011, A._ a ouvert une '\n",
      "         'procédure de modification du jugement de divorce tendant à ce que '\n",
      "         \"l'autorité parentale et la garde sur l'enfant lui soient \"\n",
      "         'transférées, à ce que le droit de visite de la mère soit réglementé '\n",
      "         \"et à ce qu'une contribution d'entretien soit mise à charge de cette \"\n",
      "         'dernière. A.d. Par décision du 30 octobre 2013, le Tribunal civil de '\n",
      "         'la Sarine (ci-après: Tribunal civil) a modifié le jugement de '\n",
      "         \"divorce du 26 avril 2007 en ce sens que l'autorité parentale et la \"\n",
      "         \"garde sur l'enfant sont dorénavant confiées à son père, que le droit \"\n",
      "         'de visite de la mère est reconnu dans son principe, ses modalités '\n",
      "         \"étant arrêtées d'entente entre les intéressés et les mesures de \"\n",
      "         'protection ordonnées par la Justice de paix étant maintenues, et que '\n",
      "         \"B._ est astreinte à contribuer à l'entretien de sa fille par le \"\n",
      "         \"versement d'une pension mensuelle de 200 fr., plus allocations, dès \"\n",
      "         \"le 1 er décembre 2010 et jusqu'à la majorité de celle-ci, sous \"\n",
      "         \"réserve de l'art. 277 al. 2 CC, aucune pension n'étant toutefois due \"\n",
      "         \"pour les mois d'août 2012 à mars 2013, durant lesquels C._ a perçu \"\n",
      "         \"un revenu moyen net de l'ordre de 2'400 fr. par mois. B. B.a. Le 16 \"\n",
      "         'décembre 2013, A._ a interjeté appel contre cette décision, '\n",
      "         'concluant à ce que la pension due par B._ pour sa fille soit portée '\n",
      "         \"à 2'000 fr. par mois, plus allocations, payable et indexable selon \"\n",
      "         'les modalités usuelles et due à compter du 1 er octobre 2010 et '\n",
      "         \"jusqu'à la majorité de C._, ou au-delà aux conditions de l'art. 277 \"\n",
      "         'al. 2 CC. Par mémoire du 10 mars 2014, B._ a déposé sa réponse et un '\n",
      "         \"appel joint, concluant au rejet de l'appel principal et à être \"\n",
      "         \"libérée de toute contribution d'entretien à l'égard de sa fille, \"\n",
      "         'subsidiairement à en être libérée dès le 1 er novembre 2014. B.b. '\n",
      "         \"Par arrêt du 15 septembre 2014, la I e Cour d'appel civil du \"\n",
      "         \"Tribunal cantonal du canton de Fribourg a rejeté l'appel principal \"\n",
      "         \"et admis l'appel joint. Elle a par conséquent réformé l'arrêt \"\n",
      "         'entrepris en ce sens notamment que B._ a été libérée de toute '\n",
      "         \"contribution d'entretien à l'égard de sa fille. C. Par acte du 6 \"\n",
      "         'novembre 2014, A._ interjette un recours en matière civile au '\n",
      "         'Tribunal fédéral contre cette décision. Il conclut principalement à '\n",
      "         \"la réforme de l'arrêt entrepris en ce sens que l'appel principal est \"\n",
      "         \"admis et l'appel joint rejeté et le dispositif réformé en ce sens \"\n",
      "         \"que B._ est condamnée à contribuer à l'entretien de sa fille par le \"\n",
      "         \"versement d'une pension mensuelle de 2'000 fr. à compter du 1 er \"\n",
      "         'octobre 2010, allocations familiales et employeur dues en sus, ce '\n",
      "         \"jusqu'à la majorité de l'enfant ou au-delà, aux conditions de l'art. \"\n",
      "         '277 al. 2 CC. Subsidiairement, il conclut au renvoi de la cause à la '\n",
      "         \"I e Cour d'appel civile du Tribunal cantonal du canton de Fribourg \"\n",
      "         \"pour modification de l'arrêt entrepris dans le sens des \"\n",
      "         \"considérants. A l'appui de ses conclusions, il invoque \"\n",
      "         \"l'établissement manifestement inexact et arbitraire des faits ainsi \"\n",
      "         \"que la violation des art. 276 et 285 CC. L'intimée n'a pas été \"\n",
      "         'invitée à se déterminer. D. Le 5 janvier 2015, A._ a fait parvenir à '\n",
      "         \"la Cour de céans une copie d'une décision rendue le 22 décembre 2014 \"\n",
      "         \"par la Présidente du Tribunal civil de la Sarine dans le cadre d'une \"\n",
      "         \"procédure de mesures protectrices de l'union conjugale l'opposant à \"\n",
      "         'sa seconde épouse. ',\n",
      " 'year': 2015}\n",
      "{'canton': 'vd',\n",
      " 'id': 36123,\n",
      " 'label': 0,\n",
      " 'language': 'fr',\n",
      " 'legal area': 'civil law',\n",
      " 'region': 'Région lémanique',\n",
      " 'source_language': 'n/a',\n",
      " 'text': 'Faits : A. A.a. Par requête de mesures provisionnelles et '\n",
      "         'superprovisionnelles du 21 février 2014, A._ SpA a requis '\n",
      "         \"l'inscription d'une hypothèque légale des artisans et entrepreneurs \"\n",
      "         \"en sa faveur sur les parts PPE de l'immeuble de base, parcelle no \"\n",
      "         '2375 du cadastre de la commune de U._, propriété de B._ SA, pour un '\n",
      "         \"montant total de 1'003'815 fr. 15. L'inscription provisoire a été \"\n",
      "         'ordonnée à titre superprovisionnel le 28 février 2014 et confirmée '\n",
      "         'le 27 mars 2015, le juge délégué de la Chambre patrimoniale '\n",
      "         'cantonale (ci-après: le juge délégué) précisant que cette '\n",
      "         \"inscription provisoire resterait valable jusqu'à l'échéance d'un \"\n",
      "         'délai de trois mois après droit connu sur le fond du litige et '\n",
      "         'impartissant à A._ SpA un délai au 31 août 2015 pour faire valoir '\n",
      "         'son droit en justice. A.b. Le 26 octobre 2015, B._ SA a informé le '\n",
      "         'juge délégué du fait que, par jugement du 18 septembre 2015, la '\n",
      "         'société avait obtenu un sursis concordataire provisoire valable '\n",
      "         \"jusqu'au 18 janvier 2016 et a requis la suspension de la procédure \"\n",
      "         \"jusqu'à cette date. A._ SpA ne s'est pas opposée à cette requête. \"\n",
      "         'A.c. Par avis des 3 novembre 2015 et 19 mai 2016, le juge délégué a '\n",
      "         \"suspendu la procédure jusqu'à droit connu sur la procédure de sursis \"\n",
      "         'concordataire. Le 27 octobre 2016, B._ SA a interpellé le juge '\n",
      "         'délégué en lien avec les inscriptions provisoires annotées au '\n",
      "         'registre foncier en faveur de A._ SpA en relevant que la liquidation '\n",
      "         'par voie de faillite de cette dernière société avait été prononcée '\n",
      "         'le 23 septembre 2014 selon un extrait du registre foncier du canton '\n",
      "         \"du Tessin. B._ SA a ainsi requis d'être informée du stade \"\n",
      "         \"d'avancement de la faillite et de radier l'inscription provisoire au \"\n",
      "         'profit de A._ SpA sur la parcelle no 2375. A._ SpA a confirmé sa '\n",
      "         'faillite, précisant toutefois que la masse en faillite entendait '\n",
      "         \"poursuivre la procédure et réclamait en conséquence d'être \"\n",
      "         'substituée à A._ SpA en faillite. B. Par avis du 1er mars 2017, le '\n",
      "         \"juge délégué a informé les parties qu'il envisageait d'ordonner la \"\n",
      "         \"reprise de la cause. B._ SA a indiqué ne pas s'y opposer, la \"\n",
      "         'requérant même en tant que besoin; A._ SpA en faillite a quant à '\n",
      "         \"elle déclaré s'y opposer. B.a. Le 29 mars 2017, le juge délégué a \"\n",
      "         \"finalement décidé qu'en l'état, il ordonnait le maintien de la \"\n",
      "         \"suspension de la procédure au fond jusqu'à droit connu sur le sursis \"\n",
      "         'concordataire. B.b. Statuant le 12 juin 2017 sur le recours formé '\n",
      "         'par B._ SA, la Chambre des recours civile du Tribunal cantonal du '\n",
      "         'canton de Vaud a admis celui-ci, annulé la décision de première '\n",
      "         'instance et retourné la cause à cette dernière autorité pour '\n",
      "         'nouvelle décision au sens des considérants. C. Agissant le 2 août '\n",
      "         '2017 par la voie du recours en matière civile au Tribunal fédéral, '\n",
      "         'A._ SpA en faillite (ci-après: la recourante) réclame principalement '\n",
      "         \"la réforme de l'arrêt cantonal en ce sens que le recours déposé par \"\n",
      "         \"B._ SA (ci-après: l'intimée no 1) est rejeté, la décision de \"\n",
      "         'maintien de suspension de la cause rendue le 29 mars 2017 par le '\n",
      "         'juge délégué étant maintenue; subsidiairement, la recourante '\n",
      "         \"sollicite l'annulation de l'arrêt cantonal et le renvoi de la cause \"\n",
      "         'à la Chambre des recours civile pour nouvelle décision au sens des '\n",
      "         \"considérants. Des déterminations n'ont pas été demandées. D. La \"\n",
      "         \"requête d'effet suspensif formée par la recourante a été rejetée par \"\n",
      "         'ordonnance présidentielle du 29 août 2017. ',\n",
      " 'year': 2017}\n"
     ]
    }
   ],
   "source": [
    "# Access the first example in the training set\n",
    "pprint(swiss_french['train'][0])\n",
    "\n",
    "# Access the first example in the validation set\n",
    "pprint(swiss_french['validation'][0])\n",
    "\n",
    "# Access the first example in the test set\n",
    "pprint(swiss_french['test'][0])"
   ]
  },
  {
   "cell_type": "code",
   "execution_count": 36,
   "id": "c644a8ca",
   "metadata": {},
   "outputs": [
    {
     "name": "stdout",
     "output_type": "stream",
     "text": [
      "Combined DataFrame shape: (35386, 10)\n",
      "\n",
      "DataFrame schema:\n",
      "Schema({'id': Int32, 'year': Int32, 'text': String, 'label': Int64, 'language': String, 'region': String, 'canton': String, 'legal area': String, 'source_language': String, 'split': String})\n",
      "\n",
      "First few rows:\n"
     ]
    },
    {
     "data": {
      "text/html": [
       "<div><style>\n",
       ".dataframe > thead > tr,\n",
       ".dataframe > tbody > tr {\n",
       "  text-align: right;\n",
       "  white-space: pre-wrap;\n",
       "}\n",
       "</style>\n",
       "<small>shape: (5, 10)</small><table border=\"1\" class=\"dataframe\"><thead><tr><th>id</th><th>year</th><th>text</th><th>label</th><th>language</th><th>region</th><th>canton</th><th>legal area</th><th>source_language</th><th>split</th></tr><tr><td>i32</td><td>i32</td><td>str</td><td>i64</td><td>str</td><td>str</td><td>str</td><td>str</td><td>str</td><td>str</td></tr></thead><tbody><tr><td>22014</td><td>2011</td><td>&quot;Faits: A. Le 28 octobre 2002 à…</td><td>0</td><td>&quot;fr&quot;</td><td>&quot;Région lémanique&quot;</td><td>&quot;ge&quot;</td><td>&quot;civil law&quot;</td><td>&quot;n/a&quot;</td><td>&quot;train&quot;</td></tr><tr><td>11593</td><td>2007</td><td>&quot;Faits : Faits : A. Le 17 avril…</td><td>1</td><td>&quot;fr&quot;</td><td>&quot;Région lémanique&quot;</td><td>&quot;ge&quot;</td><td>&quot;penal law&quot;</td><td>&quot;n/a&quot;</td><td>&quot;train&quot;</td></tr><tr><td>26670</td><td>2013</td><td>&quot;Faits: A. Par jugement du 2 ma…</td><td>0</td><td>&quot;fr&quot;</td><td>&quot;Région lémanique&quot;</td><td>&quot;vd&quot;</td><td>&quot;penal law&quot;</td><td>&quot;n/a&quot;</td><td>&quot;train&quot;</td></tr><tr><td>5864</td><td>2004</td><td>&quot;Faits: Faits: A. N._, née en 1…</td><td>1</td><td>&quot;fr&quot;</td><td>&quot;Région lémanique&quot;</td><td>&quot;vd&quot;</td><td>&quot;insurance law&quot;</td><td>&quot;n/a&quot;</td><td>&quot;train&quot;</td></tr><tr><td>16122</td><td>2009</td><td>&quot;Faits: A. Y._ est propriétaire…</td><td>0</td><td>&quot;fr&quot;</td><td>&quot;Région lémanique&quot;</td><td>&quot;ge&quot;</td><td>&quot;public law&quot;</td><td>&quot;n/a&quot;</td><td>&quot;train&quot;</td></tr></tbody></table></div>"
      ],
      "text/plain": [
       "shape: (5, 10)\n",
       "┌───────┬──────┬────────────────────┬───────┬───┬────────┬───────────────┬─────────────────┬───────┐\n",
       "│ id    ┆ year ┆ text               ┆ label ┆ … ┆ canton ┆ legal area    ┆ source_language ┆ split │\n",
       "│ ---   ┆ ---  ┆ ---                ┆ ---   ┆   ┆ ---    ┆ ---           ┆ ---             ┆ ---   │\n",
       "│ i32   ┆ i32  ┆ str                ┆ i64   ┆   ┆ str    ┆ str           ┆ str             ┆ str   │\n",
       "╞═══════╪══════╪════════════════════╪═══════╪═══╪════════╪═══════════════╪═════════════════╪═══════╡\n",
       "│ 22014 ┆ 2011 ┆ Faits: A. Le 28    ┆ 0     ┆ … ┆ ge     ┆ civil law     ┆ n/a             ┆ train │\n",
       "│       ┆      ┆ octobre 2002 à…    ┆       ┆   ┆        ┆               ┆                 ┆       │\n",
       "│ 11593 ┆ 2007 ┆ Faits : Faits : A. ┆ 1     ┆ … ┆ ge     ┆ penal law     ┆ n/a             ┆ train │\n",
       "│       ┆      ┆ Le 17 avril…       ┆       ┆   ┆        ┆               ┆                 ┆       │\n",
       "│ 26670 ┆ 2013 ┆ Faits: A. Par      ┆ 0     ┆ … ┆ vd     ┆ penal law     ┆ n/a             ┆ train │\n",
       "│       ┆      ┆ jugement du 2 ma…  ┆       ┆   ┆        ┆               ┆                 ┆       │\n",
       "│ 5864  ┆ 2004 ┆ Faits: Faits: A.   ┆ 1     ┆ … ┆ vd     ┆ insurance law ┆ n/a             ┆ train │\n",
       "│       ┆      ┆ N._, née en 1…     ┆       ┆   ┆        ┆               ┆                 ┆       │\n",
       "│ 16122 ┆ 2009 ┆ Faits: A. Y._ est  ┆ 0     ┆ … ┆ ge     ┆ public law    ┆ n/a             ┆ train │\n",
       "│       ┆      ┆ propriétaire…      ┆       ┆   ┆        ┆               ┆                 ┆       │\n",
       "└───────┴──────┴────────────────────┴───────┴───┴────────┴───────────────┴─────────────────┴───────┘"
      ]
     },
     "execution_count": 36,
     "metadata": {},
     "output_type": "execute_result"
    }
   ],
   "source": [
    "# Convert datasets to Polars DataFrames\n",
    "def dataset_to_polars(dataset_split):\n",
    "    \"\"\"Convert a Hugging Face dataset split to a Polars DataFrame\"\"\"\n",
    "    polars_df = dataset_split.shuffle(seed=seed).to_polars()\n",
    "    return polars_df\n",
    "\n",
    "# Convert French dataset splits\n",
    "french_train_df = dataset_to_polars(swiss_french['train'])\n",
    "french_val_df = dataset_to_polars(swiss_french['validation'])\n",
    "french_test_df = dataset_to_polars(swiss_french['test'])\n",
    "\n",
    "# Convert Italian dataset splits\n",
    "italian_train_df = dataset_to_polars(swiss_italian['train'])\n",
    "italian_val_df = dataset_to_polars(swiss_italian['validation'])\n",
    "italian_test_df = dataset_to_polars(swiss_italian['test'])\n",
    "\n",
    "# Combine all French splits into one DataFrame with a split indicator\n",
    "french_df = pl.concat([\n",
    "    french_train_df.with_columns(pl.lit(\"train\").alias(\"split\")),\n",
    "    french_val_df.with_columns(pl.lit(\"validation\").alias(\"split\")),\n",
    "    french_test_df.with_columns(pl.lit(\"test\").alias(\"split\"))\n",
    "])\n",
    "\n",
    "# Combine all Italian splits into one DataFrame with a split indicator\n",
    "italian_df = pl.concat([\n",
    "    italian_train_df.with_columns(pl.lit(\"train\").alias(\"split\")),\n",
    "    italian_val_df.with_columns(pl.lit(\"validation\").alias(\"split\")),\n",
    "    italian_test_df.with_columns(pl.lit(\"test\").alias(\"split\"))\n",
    "])\n",
    "\n",
    "# Combine both languages into a single DataFrame\n",
    "combined_df = pl.concat([french_df, italian_df])\n",
    "\n",
    "print(\"Combined DataFrame shape:\", combined_df.shape)\n",
    "print(\"\\nDataFrame schema:\")\n",
    "print(combined_df.schema)\n",
    "print(\"\\nFirst few rows:\")\n",
    "combined_df.head()"
   ]
  },
  {
   "cell_type": "code",
   "execution_count": 37,
   "id": "e4429bca",
   "metadata": {},
   "outputs": [
    {
     "name": "stdout",
     "output_type": "stream",
     "text": [
      "\n",
      "First few rows:\n"
     ]
    },
    {
     "data": {
      "text/html": [
       "<div><style>\n",
       ".dataframe > thead > tr,\n",
       ".dataframe > tbody > tr {\n",
       "  text-align: right;\n",
       "  white-space: pre-wrap;\n",
       "}\n",
       "</style>\n",
       "<small>shape: (5, 9)</small><table border=\"1\" class=\"dataframe\"><thead><tr><th>id</th><th>year</th><th>text</th><th>labels</th><th>language</th><th>region</th><th>canton</th><th>legal area</th><th>split</th></tr><tr><td>i32</td><td>i32</td><td>str</td><td>i64</td><td>str</td><td>str</td><td>str</td><td>str</td><td>str</td></tr></thead><tbody><tr><td>22014</td><td>2011</td><td>&quot;Faits: A. Le 28 octobre 2002 à…</td><td>0</td><td>&quot;fr&quot;</td><td>&quot;Région lémanique&quot;</td><td>&quot;ge&quot;</td><td>&quot;civil law&quot;</td><td>&quot;train&quot;</td></tr><tr><td>11593</td><td>2007</td><td>&quot;Faits : Faits : A. Le 17 avril…</td><td>1</td><td>&quot;fr&quot;</td><td>&quot;Région lémanique&quot;</td><td>&quot;ge&quot;</td><td>&quot;penal law&quot;</td><td>&quot;train&quot;</td></tr><tr><td>26670</td><td>2013</td><td>&quot;Faits: A. Par jugement du 2 ma…</td><td>0</td><td>&quot;fr&quot;</td><td>&quot;Région lémanique&quot;</td><td>&quot;vd&quot;</td><td>&quot;penal law&quot;</td><td>&quot;train&quot;</td></tr><tr><td>5864</td><td>2004</td><td>&quot;Faits: Faits: A. N._, née en 1…</td><td>1</td><td>&quot;fr&quot;</td><td>&quot;Région lémanique&quot;</td><td>&quot;vd&quot;</td><td>&quot;insurance law&quot;</td><td>&quot;train&quot;</td></tr><tr><td>16122</td><td>2009</td><td>&quot;Faits: A. Y._ est propriétaire…</td><td>0</td><td>&quot;fr&quot;</td><td>&quot;Région lémanique&quot;</td><td>&quot;ge&quot;</td><td>&quot;public law&quot;</td><td>&quot;train&quot;</td></tr></tbody></table></div>"
      ],
      "text/plain": [
       "shape: (5, 9)\n",
       "┌───────┬──────┬──────────────────┬────────┬───┬──────────────────┬────────┬───────────────┬───────┐\n",
       "│ id    ┆ year ┆ text             ┆ labels ┆ … ┆ region           ┆ canton ┆ legal area    ┆ split │\n",
       "│ ---   ┆ ---  ┆ ---              ┆ ---    ┆   ┆ ---              ┆ ---    ┆ ---           ┆ ---   │\n",
       "│ i32   ┆ i32  ┆ str              ┆ i64    ┆   ┆ str              ┆ str    ┆ str           ┆ str   │\n",
       "╞═══════╪══════╪══════════════════╪════════╪═══╪══════════════════╪════════╪═══════════════╪═══════╡\n",
       "│ 22014 ┆ 2011 ┆ Faits: A. Le 28  ┆ 0      ┆ … ┆ Région lémanique ┆ ge     ┆ civil law     ┆ train │\n",
       "│       ┆      ┆ octobre 2002 à…  ┆        ┆   ┆                  ┆        ┆               ┆       │\n",
       "│ 11593 ┆ 2007 ┆ Faits : Faits :  ┆ 1      ┆ … ┆ Région lémanique ┆ ge     ┆ penal law     ┆ train │\n",
       "│       ┆      ┆ A. Le 17 avril…  ┆        ┆   ┆                  ┆        ┆               ┆       │\n",
       "│ 26670 ┆ 2013 ┆ Faits: A. Par    ┆ 0      ┆ … ┆ Région lémanique ┆ vd     ┆ penal law     ┆ train │\n",
       "│       ┆      ┆ jugement du 2    ┆        ┆   ┆                  ┆        ┆               ┆       │\n",
       "│       ┆      ┆ ma…              ┆        ┆   ┆                  ┆        ┆               ┆       │\n",
       "│ 5864  ┆ 2004 ┆ Faits: Faits: A. ┆ 1      ┆ … ┆ Région lémanique ┆ vd     ┆ insurance law ┆ train │\n",
       "│       ┆      ┆ N._, née en 1…   ┆        ┆   ┆                  ┆        ┆               ┆       │\n",
       "│ 16122 ┆ 2009 ┆ Faits: A. Y._    ┆ 0      ┆ … ┆ Région lémanique ┆ ge     ┆ public law    ┆ train │\n",
       "│       ┆      ┆ est              ┆        ┆   ┆                  ┆        ┆               ┆       │\n",
       "│       ┆      ┆ propriétaire…    ┆        ┆   ┆                  ┆        ┆               ┆       │\n",
       "└───────┴──────┴──────────────────┴────────┴───┴──────────────────┴────────┴───────────────┴───────┘"
      ]
     },
     "execution_count": 37,
     "metadata": {},
     "output_type": "execute_result"
    }
   ],
   "source": [
    "# Remove columns that are not needed for the final dataset\n",
    "columns_to_remove = ['source_language']\n",
    "combined_df = combined_df.drop(columns_to_remove)\n",
    "\n",
    "# Clean up \"n/a\" strings in several columns to actual NaN values\n",
    "columns_to_clean = ['region', 'canton', 'legal area']\n",
    "\n",
    "for column in columns_to_clean:\n",
    "    combined_df = combined_df.with_columns(\n",
    "        pl.col(column).replace(\"n/a\", None)\n",
    "    )\n",
    "\n",
    "# Rename 'label' column to 'labels' to match Hugging Face expectations\n",
    "combined_df = combined_df.rename({\"label\": \"labels\"})\n",
    "\n",
    "print(\"\\nFirst few rows:\")\n",
    "combined_df.head()"
   ]
  },
  {
   "cell_type": "code",
   "execution_count": 38,
   "id": "da6b6021",
   "metadata": {},
   "outputs": [],
   "source": [
    "# Save the combined DataFrame to a Parquet file\n",
    "combined_df.write_parquet('swiss_judgment_prediction_fr&it_clean.parquet')"
   ]
  },
  {
   "cell_type": "markdown",
   "id": "7d462881",
   "metadata": {},
   "source": [
    "## 2.2. EDA\n",
    "\n",
    "**Data fields**:\n",
    "- id: (int) a unique identifier of the for the document\n",
    "- year: (int) the publication year\n",
    "- text: (str) the facts of the case\n",
    "- label: (class label) the judgment outcome: 0 (dismissal) or 1 (approval)\n",
    "- language: (str) one of (de, fr, it)\n",
    "- region: (str) the region of the lower court\n",
    "- canton: (str) the canton of the lower court\n",
    "- legal area: (str) the legal area of the case "
   ]
  },
  {
   "cell_type": "code",
   "execution_count": 39,
   "id": "584a9339",
   "metadata": {},
   "outputs": [
    {
     "name": "stdout",
     "output_type": "stream",
     "text": [
      "\n",
      "Loaded DataFrame shape: (35386, 9)\n",
      "\n",
      "Loaded DataFrame schema:\n",
      "Schema({'id': Int32, 'year': Int32, 'text': String, 'labels': Int64, 'language': String, 'region': String, 'canton': String, 'legal area': String, 'split': String})\n",
      "\n",
      "First few rows of the loaded DataFrame:\n"
     ]
    },
    {
     "data": {
      "text/html": [
       "<div><style>\n",
       ".dataframe > thead > tr,\n",
       ".dataframe > tbody > tr {\n",
       "  text-align: right;\n",
       "  white-space: pre-wrap;\n",
       "}\n",
       "</style>\n",
       "<small>shape: (5, 9)</small><table border=\"1\" class=\"dataframe\"><thead><tr><th>id</th><th>year</th><th>text</th><th>labels</th><th>language</th><th>region</th><th>canton</th><th>legal area</th><th>split</th></tr><tr><td>i32</td><td>i32</td><td>str</td><td>i64</td><td>str</td><td>str</td><td>str</td><td>str</td><td>str</td></tr></thead><tbody><tr><td>22014</td><td>2011</td><td>&quot;Faits: A. Le 28 octobre 2002 à…</td><td>0</td><td>&quot;fr&quot;</td><td>&quot;Région lémanique&quot;</td><td>&quot;ge&quot;</td><td>&quot;civil law&quot;</td><td>&quot;train&quot;</td></tr><tr><td>11593</td><td>2007</td><td>&quot;Faits : Faits : A. Le 17 avril…</td><td>1</td><td>&quot;fr&quot;</td><td>&quot;Région lémanique&quot;</td><td>&quot;ge&quot;</td><td>&quot;penal law&quot;</td><td>&quot;train&quot;</td></tr><tr><td>26670</td><td>2013</td><td>&quot;Faits: A. Par jugement du 2 ma…</td><td>0</td><td>&quot;fr&quot;</td><td>&quot;Région lémanique&quot;</td><td>&quot;vd&quot;</td><td>&quot;penal law&quot;</td><td>&quot;train&quot;</td></tr><tr><td>5864</td><td>2004</td><td>&quot;Faits: Faits: A. N._, née en 1…</td><td>1</td><td>&quot;fr&quot;</td><td>&quot;Région lémanique&quot;</td><td>&quot;vd&quot;</td><td>&quot;insurance law&quot;</td><td>&quot;train&quot;</td></tr><tr><td>16122</td><td>2009</td><td>&quot;Faits: A. Y._ est propriétaire…</td><td>0</td><td>&quot;fr&quot;</td><td>&quot;Région lémanique&quot;</td><td>&quot;ge&quot;</td><td>&quot;public law&quot;</td><td>&quot;train&quot;</td></tr></tbody></table></div>"
      ],
      "text/plain": [
       "shape: (5, 9)\n",
       "┌───────┬──────┬──────────────────┬────────┬───┬──────────────────┬────────┬───────────────┬───────┐\n",
       "│ id    ┆ year ┆ text             ┆ labels ┆ … ┆ region           ┆ canton ┆ legal area    ┆ split │\n",
       "│ ---   ┆ ---  ┆ ---              ┆ ---    ┆   ┆ ---              ┆ ---    ┆ ---           ┆ ---   │\n",
       "│ i32   ┆ i32  ┆ str              ┆ i64    ┆   ┆ str              ┆ str    ┆ str           ┆ str   │\n",
       "╞═══════╪══════╪══════════════════╪════════╪═══╪══════════════════╪════════╪═══════════════╪═══════╡\n",
       "│ 22014 ┆ 2011 ┆ Faits: A. Le 28  ┆ 0      ┆ … ┆ Région lémanique ┆ ge     ┆ civil law     ┆ train │\n",
       "│       ┆      ┆ octobre 2002 à…  ┆        ┆   ┆                  ┆        ┆               ┆       │\n",
       "│ 11593 ┆ 2007 ┆ Faits : Faits :  ┆ 1      ┆ … ┆ Région lémanique ┆ ge     ┆ penal law     ┆ train │\n",
       "│       ┆      ┆ A. Le 17 avril…  ┆        ┆   ┆                  ┆        ┆               ┆       │\n",
       "│ 26670 ┆ 2013 ┆ Faits: A. Par    ┆ 0      ┆ … ┆ Région lémanique ┆ vd     ┆ penal law     ┆ train │\n",
       "│       ┆      ┆ jugement du 2    ┆        ┆   ┆                  ┆        ┆               ┆       │\n",
       "│       ┆      ┆ ma…              ┆        ┆   ┆                  ┆        ┆               ┆       │\n",
       "│ 5864  ┆ 2004 ┆ Faits: Faits: A. ┆ 1      ┆ … ┆ Région lémanique ┆ vd     ┆ insurance law ┆ train │\n",
       "│       ┆      ┆ N._, née en 1…   ┆        ┆   ┆                  ┆        ┆               ┆       │\n",
       "│ 16122 ┆ 2009 ┆ Faits: A. Y._    ┆ 0      ┆ … ┆ Région lémanique ┆ ge     ┆ public law    ┆ train │\n",
       "│       ┆      ┆ est              ┆        ┆   ┆                  ┆        ┆               ┆       │\n",
       "│       ┆      ┆ propriétaire…    ┆        ┆   ┆                  ┆        ┆               ┆       │\n",
       "└───────┴──────┴──────────────────┴────────┴───┴──────────────────┴────────┴───────────────┴───────┘"
      ]
     },
     "execution_count": 39,
     "metadata": {},
     "output_type": "execute_result"
    }
   ],
   "source": [
    "# Load the cleaned Parquet file\n",
    "df = pl.read_parquet('swiss_judgment_prediction_fr&it_clean.parquet')\n",
    "\n",
    "# Display the loaded DataFrame\n",
    "print(\"\\nLoaded DataFrame shape:\", df.shape)\n",
    "print(\"\\nLoaded DataFrame schema:\")\n",
    "print(df.schema)\n",
    "print(\"\\nFirst few rows of the loaded DataFrame:\")\n",
    "df.head()"
   ]
  },
  {
   "cell_type": "code",
   "execution_count": 42,
   "id": "ba324092",
   "metadata": {},
   "outputs": [
    {
     "name": "stdout",
     "output_type": "stream",
     "text": [
      "shape: (3, 5)\n",
      "┌────────────┬───────┬──────┬───────┬───────┐\n",
      "│ split      ┆ 0     ┆ 1    ┆ 0_pct ┆ 1_pct │\n",
      "│ ---        ┆ ---   ┆ ---  ┆ ---   ┆ ---   │\n",
      "│ str        ┆ u32   ┆ u32  ┆ f64   ┆ f64   │\n",
      "╞════════════╪═══════╪══════╪═══════╪═══════╡\n",
      "│ train      ┆ 18429 ┆ 5822 ┆ 75.99 ┆ 24.01 │\n",
      "│ validation ┆ 2789  ┆ 714  ┆ 79.62 ┆ 20.38 │\n",
      "│ test       ┆ 6216  ┆ 1416 ┆ 81.45 ┆ 18.55 │\n",
      "└────────────┴───────┴──────┴───────┴───────┘\n"
     ]
    },
    {
     "data": {
      "image/png": "[encoded data removed]",
      "text/plain": [
       "<Figure size 800x800 with 1 Axes>"
      ]
     },
     "metadata": {},
     "output_type": "display_data"
    }
   ],
   "source": [
    "label_distribution = df.group_by(['split', 'labels']).len().sort(['split', 'labels'])\n",
    "\n",
    "# pivot\n",
    "label_pivot = label_distribution.pivot(\n",
    "    index='split',\n",
    "    on='labels',\n",
    "    values='len'\n",
    ").sort(['split'])\n",
    "\n",
    "total_by_split = label_pivot.select(pl.col('0') + pl.col('1')).rename({'0': 'total'})\n",
    "label_pivot_with_pct = label_pivot.with_columns([\n",
    "    (pl.col('0') / (pl.col('0') + pl.col('1')) * 100).round(2).alias('0_pct'), # percentages for each labels\n",
    "    (pl.col('1') / (pl.col('0') + pl.col('1')) * 100).round(2).alias('1_pct')\n",
    "])\n",
    "\n",
    "# reorder and pivot\n",
    "split_order = {'train': 0, 'validation': 1, 'test': 2}\n",
    "label_pivot = label_pivot.filter(\n",
    "    pl.col('split').is_in(['train', 'validation', 'test'])\n",
    ").with_columns(\n",
    "    pl.col('split').map_elements(lambda x: split_order.get(x, 99), return_dtype=pl.Int64).alias('sort_key')\n",
    ").sort('sort_key').drop('sort_key')\n",
    "\n",
    "label_pivot_with_pct = label_pivot_with_pct.filter(\n",
    "    pl.col('split').is_in(['train', 'validation', 'test'])\n",
    ").with_columns(\n",
    "    pl.col('split').map_elements(lambda x: split_order.get(x, 99), return_dtype=pl.Int64).alias('sort_key')\n",
    ").sort('sort_key').drop('sort_key')\n",
    "\n",
    "print(label_pivot_with_pct)\n",
    "\n",
    "ordered_splits = ['train', 'validation', 'test']\n",
    "label_0_counts = label_pivot.select('0').to_numpy().flatten()\n",
    "label_1_counts = label_pivot.select('1').to_numpy().flatten()\n",
    "\n",
    "fig, ax = plt.subplots(figsize=(8, 8))\n",
    "width = 0.35\n",
    "x = np.arange(len(ordered_splits))\n",
    "\n",
    "bar1 = ax.bar(x - width/2, label_0_counts, width, label='Dismissal (0)', color=plt.cm.viridis(np.linspace(0.5, 0.5, 3)))\n",
    "bar2 = ax.bar(x + width/2, label_1_counts, width, label='Approval (1)', color=plt.cm.viridis(np.linspace(1, 1, 3)))\n",
    "\n",
    "for i, bar in enumerate(bar1):\n",
    "    height = bar.get_height()\n",
    "    ax.text(bar.get_x() + bar.get_width()/2., height + 0.1,\n",
    "            f'{label_pivot_with_pct[\"0_pct\"][i]:.1f}%', \n",
    "            ha='center', va='bottom')\n",
    "\n",
    "for i, bar in enumerate(bar2):\n",
    "    height = bar.get_height()\n",
    "    ax.text(bar.get_x() + bar.get_width()/2., height + 0.1,\n",
    "            f'{label_pivot_with_pct[\"1_pct\"][i]:.1f}%', \n",
    "            ha='center', va='bottom')\n",
    "\n",
    "ax.set_xlabel('Dataset split')\n",
    "ax.set_ylabel('Count')\n",
    "ax.set_title('Distribution of labels')\n",
    "ax.set_xticks(x)\n",
    "ax.set_xticklabels(ordered_splits)\n",
    "ax.legend()\n",
    "\n",
    "for i in range(len(ordered_splits)):\n",
    "    total = label_0_counts[i] + label_1_counts[i]\n",
    "    ax.text(i, max(label_0_counts[i], label_1_counts[i]) + 500, \n",
    "            f'Total: {total}', ha='center', va='bottom')\n",
    "\n",
    "plt.tight_layout()\n",
    "plt.show()"
   ]
  },
  {
   "cell_type": "markdown",
   "id": "d02ccf8a",
   "metadata": {},
   "source": [
    "# 3. Random Classifier Performance"
   ]
  },
  {
   "cell_type": "code",
   "execution_count": 44,
   "id": "7d6c4e0a",
   "metadata": {},
   "outputs": [
    {
     "name": "stdout",
     "output_type": "stream",
     "text": [
      "Metrics calculated for: random_classifier_train\n"
     ]
    },
    {
     "ename": "AttributeError",
     "evalue": "'Metrics' object has no attribute 'plot_confusion_matrix'",
     "output_type": "error",
     "traceback": [
      "\u001b[31m---------------------------------------------------------------------------\u001b[39m",
      "\u001b[31mAttributeError\u001b[39m                            Traceback (most recent call last)",
      "\u001b[36mCell\u001b[39m\u001b[36m \u001b[39m\u001b[32mIn[44]\u001b[39m\u001b[32m, line 20\u001b[39m\n\u001b[32m     17\u001b[39m     y_true, y_pred, class_probs = random_classifier(df, split)\n\u001b[32m     19\u001b[39m     metrics.run(y_true, y_pred, \u001b[33mf\u001b[39m\u001b[33m'\u001b[39m\u001b[33mrandom_classifier_\u001b[39m\u001b[38;5;132;01m{\u001b[39;00msplit\u001b[38;5;132;01m}\u001b[39;00m\u001b[33m'\u001b[39m, average=\u001b[33m'\u001b[39m\u001b[33mbinary\u001b[39m\u001b[33m'\u001b[39m)\n\u001b[32m---> \u001b[39m\u001b[32m20\u001b[39m     \u001b[43mmetrics\u001b[49m\u001b[43m.\u001b[49m\u001b[43mplot_confusion_matrix\u001b[49m(y_true, y_pred, \u001b[33mf\u001b[39m\u001b[33m\"\u001b[39m\u001b[33mrandom_classifier_\u001b[39m\u001b[38;5;132;01m{\u001b[39;00msplit\u001b[38;5;132;01m}\u001b[39;00m\u001b[33m\"\u001b[39m, ax=axes[i])\n\u001b[32m     22\u001b[39m plt.tight_layout()\n\u001b[32m     23\u001b[39m plt.show()\n",
      "\u001b[31mAttributeError\u001b[39m: 'Metrics' object has no attribute 'plot_confusion_matrix'"
     ]
    },
    {
     "data": {
      "image/png": "[encoded data removed]",
      "text/plain": [
       "<Figure size 1800x500 with 3 Axes>"
      ]
     },
     "metadata": {},
     "output_type": "display_data"
    }
   ],
   "source": [
    "def random_classifier(data, split_name):\n",
    "    split_data = data.filter(pl.col('split') == split_name)\n",
    "    \n",
    "    # labels distribution from train\n",
    "    label_dist_train = df.filter(pl.col('split') == 'train').group_by('labels').len()\n",
    "    total_train = label_dist_train['len'].sum()\n",
    "    class_probs = {row['labels']: row['len'] / total_train for row in label_dist_train.to_dicts()}\n",
    "    \n",
    "    y_true = split_data.select('labels').to_numpy().flatten()\n",
    "    y_pred = np.random.choice([0, 1], size=len(y_true), p=[class_probs[0], class_probs[1]])\n",
    "    \n",
    "    return y_true, y_pred, class_probs\n",
    "\n",
    "# compute and plot confusion matrices\n",
    "fig, axes = plt.subplots(1, 3, figsize=(18, 5))\n",
    "for i, split in enumerate(['train', 'validation', 'test']):\n",
    "    y_true, y_pred, class_probs = random_classifier(df, split)\n",
    "    \n",
    "    metrics.run(y_true, y_pred, f'random_classifier_{split}', average='binary')\n",
    "    metrics.plot_confusion_matrix(y_true, y_pred, f\"random_classifier_{split}\", ax=axes[i])\n",
    "\n",
    "plt.tight_layout()\n",
    "plt.show()\n",
    "\n",
    "# expected results of random classifyer\n",
    "majority_class_percentage = class_probs[0] * 100  # Assuming class '1' is the majority class\n",
    "print(f\"Expected accuracy of a random classifier based on majority class of 'train' set: {majority_class_percentage:.2f}%\")\n",
    "random_accuracy = (class_probs[0]**2 + class_probs[1]**2) *100\n",
    "print(f\"Expected accuracy of a random classifier based on class probabilities of 'train' set: {random_accuracy:.2f}%\")\n",
    "\n",
    "# print results of random classifier\n",
    "metrics.print_results()\n",
    "metrics.plot()"
   ]
  },
  {
   "cell_type": "markdown",
   "id": "2adb57e3",
   "metadata": {},
   "source": [
    "# 4. Baseline Implementation"
   ]
  }
 ],
 "metadata": {
  "kernelspec": {
   "display_name": "bse-nlp-YMIcxN07-py3.12",
   "language": "python",
   "name": "python3"
  },
  "language_info": {
   "codemirror_mode": {
    "name": "ipython",
    "version": 3
   },
   "file_extension": ".py",
   "mimetype": "text/x-python",
   "name": "python",
   "nbconvert_exporter": "python",
   "pygments_lexer": "ipython3",
   "version": "3.12.9"
  }
 },
 "nbformat": 4,
 "nbformat_minor": 5
}
